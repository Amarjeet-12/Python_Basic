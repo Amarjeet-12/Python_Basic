{
 "cells": [
  {
   "cell_type": "markdown",
   "id": "8b53e237",
   "metadata": {},
   "source": [
    "## Data Structure\n",
    "#### Delivery Sequence\n",
    "##### List\n",
    "##### Tuple\n",
    "##### Set\n",
    "##### Dict"
   ]
  },
  {
   "cell_type": "code",
   "execution_count": 1,
   "id": "a6c8d523",
   "metadata": {},
   "outputs": [],
   "source": [
    "# What is list?\n",
    "\n",
    "# A series of names, figures, items, etc. that are written, printed or said one after another.\n",
    "\n",
    "Gift_Items = ['cap','IPhone','pen','laptop','dairy-milk','doll','guitar','watch']\n"
   ]
  },
  {
   "cell_type": "code",
   "execution_count": 2,
   "id": "ed4f5bf0",
   "metadata": {},
   "outputs": [
    {
     "data": {
      "text/plain": [
       "list"
      ]
     },
     "execution_count": 2,
     "metadata": {},
     "output_type": "execute_result"
    }
   ],
   "source": [
    "type(Gift_Items)"
   ]
  },
  {
   "cell_type": "code",
   "execution_count": 3,
   "id": "e8012b6a",
   "metadata": {},
   "outputs": [
    {
     "data": {
      "text/plain": [
       "['cap', 'IPhone', 'pen', 'laptop', 'dairy-milk', 'doll', 'guitar', 'watch']"
      ]
     },
     "execution_count": 3,
     "metadata": {},
     "output_type": "execute_result"
    }
   ],
   "source": [
    "Gift_Items"
   ]
  },
  {
   "cell_type": "code",
   "execution_count": 11,
   "id": "83276e05",
   "metadata": {},
   "outputs": [],
   "source": [
    "# Note:- To add new elements we will use append () function for each element we want to add\n",
    "\n",
    "Gift_Items.append('bag')"
   ]
  },
  {
   "cell_type": "code",
   "execution_count": 12,
   "id": "8282d4f1",
   "metadata": {},
   "outputs": [
    {
     "data": {
      "text/plain": [
       "['cap',\n",
       " 'IPhone',\n",
       " 'pen',\n",
       " 'laptop',\n",
       " 'dairy-milk',\n",
       " 'doll',\n",
       " 'guitar',\n",
       " 'watch',\n",
       " 'bag',\n",
       " 'water-bottle',\n",
       " 'fridge',\n",
       " 'fridge',\n",
       " 'washing-maching',\n",
       " 'Air-conditioner',\n",
       " 'bag']"
      ]
     },
     "execution_count": 12,
     "metadata": {},
     "output_type": "execute_result"
    }
   ],
   "source": [
    "Gift_Items"
   ]
  },
  {
   "cell_type": "code",
   "execution_count": 6,
   "id": "32262a76",
   "metadata": {},
   "outputs": [],
   "source": [
    "Gift_Items.append('water-bottle')"
   ]
  },
  {
   "cell_type": "code",
   "execution_count": 7,
   "id": "9acdd66e",
   "metadata": {},
   "outputs": [
    {
     "data": {
      "text/plain": [
       "['cap',\n",
       " 'IPhone',\n",
       " 'pen',\n",
       " 'laptop',\n",
       " 'dairy-milk',\n",
       " 'doll',\n",
       " 'guitar',\n",
       " 'watch',\n",
       " 'bag',\n",
       " 'water-bottle']"
      ]
     },
     "execution_count": 7,
     "metadata": {},
     "output_type": "execute_result"
    }
   ],
   "source": [
    "Gift_Items"
   ]
  },
  {
   "cell_type": "code",
   "execution_count": 9,
   "id": "e90c63eb",
   "metadata": {},
   "outputs": [],
   "source": [
    "Gift_Items.append('fridge')\n",
    "Gift_Items.append('washing-maching')\n",
    "Gift_Items.append('Air-conditioner')"
   ]
  },
  {
   "cell_type": "code",
   "execution_count": 13,
   "id": "fa4385d5",
   "metadata": {},
   "outputs": [
    {
     "data": {
      "text/plain": [
       "['cap',\n",
       " 'IPhone',\n",
       " 'pen',\n",
       " 'laptop',\n",
       " 'dairy-milk',\n",
       " 'doll',\n",
       " 'guitar',\n",
       " 'watch',\n",
       " 'bag',\n",
       " 'water-bottle',\n",
       " 'fridge',\n",
       " 'fridge',\n",
       " 'washing-maching',\n",
       " 'Air-conditioner',\n",
       " 'bag']"
      ]
     },
     "execution_count": 13,
     "metadata": {},
     "output_type": "execute_result"
    }
   ],
   "source": [
    "Gift_Items"
   ]
  },
  {
   "cell_type": "code",
   "execution_count": 14,
   "id": "661b417b",
   "metadata": {},
   "outputs": [],
   "source": [
    "# Lets add multiple items in list using Extend () function.\n",
    "\n",
    "new_list = ['plate','cup','glass','bowl']"
   ]
  },
  {
   "cell_type": "code",
   "execution_count": 15,
   "id": "a4ca17fb",
   "metadata": {},
   "outputs": [],
   "source": [
    "Gift_Items.extend(new_list)"
   ]
  },
  {
   "cell_type": "code",
   "execution_count": 16,
   "id": "ca26901c",
   "metadata": {},
   "outputs": [
    {
     "data": {
      "text/plain": [
       "['cap',\n",
       " 'IPhone',\n",
       " 'pen',\n",
       " 'laptop',\n",
       " 'dairy-milk',\n",
       " 'doll',\n",
       " 'guitar',\n",
       " 'watch',\n",
       " 'bag',\n",
       " 'water-bottle',\n",
       " 'fridge',\n",
       " 'fridge',\n",
       " 'washing-maching',\n",
       " 'Air-conditioner',\n",
       " 'bag',\n",
       " 'plate',\n",
       " 'cup',\n",
       " 'glass',\n",
       " 'bowl']"
      ]
     },
     "execution_count": 16,
     "metadata": {},
     "output_type": "execute_result"
    }
   ],
   "source": [
    "Gift_Items"
   ]
  },
  {
   "cell_type": "code",
   "execution_count": 17,
   "id": "1c2df4bb",
   "metadata": {},
   "outputs": [],
   "source": [
    "# Let's add another list in Gift_Items list using append function as a new element.\n",
    "\n",
    "nested_list = ['bat','ball', 'stump','bails','helmet']"
   ]
  },
  {
   "cell_type": "code",
   "execution_count": 18,
   "id": "6dce0a89",
   "metadata": {},
   "outputs": [],
   "source": [
    "Gift_Items.append(nested_list)"
   ]
  },
  {
   "cell_type": "code",
   "execution_count": 19,
   "id": "8d6f3d54",
   "metadata": {},
   "outputs": [
    {
     "data": {
      "text/plain": [
       "['cap',\n",
       " 'IPhone',\n",
       " 'pen',\n",
       " 'laptop',\n",
       " 'dairy-milk',\n",
       " 'doll',\n",
       " 'guitar',\n",
       " 'watch',\n",
       " 'bag',\n",
       " 'water-bottle',\n",
       " 'fridge',\n",
       " 'fridge',\n",
       " 'washing-maching',\n",
       " 'Air-conditioner',\n",
       " 'bag',\n",
       " 'plate',\n",
       " 'cup',\n",
       " 'glass',\n",
       " 'bowl',\n",
       " ['bat', 'ball', 'stump', 'bails', 'helmet']]"
      ]
     },
     "execution_count": 19,
     "metadata": {},
     "output_type": "execute_result"
    }
   ],
   "source": [
    "Gift_Items"
   ]
  },
  {
   "cell_type": "code",
   "execution_count": 20,
   "id": "e3782f7b",
   "metadata": {},
   "outputs": [],
   "source": [
    "del Gift_Items[-1]"
   ]
  },
  {
   "cell_type": "code",
   "execution_count": 21,
   "id": "fc61d254",
   "metadata": {},
   "outputs": [
    {
     "data": {
      "text/plain": [
       "['cap',\n",
       " 'IPhone',\n",
       " 'pen',\n",
       " 'laptop',\n",
       " 'dairy-milk',\n",
       " 'doll',\n",
       " 'guitar',\n",
       " 'watch',\n",
       " 'bag',\n",
       " 'water-bottle',\n",
       " 'fridge',\n",
       " 'fridge',\n",
       " 'washing-maching',\n",
       " 'Air-conditioner',\n",
       " 'bag',\n",
       " 'plate',\n",
       " 'cup',\n",
       " 'glass',\n",
       " 'bowl']"
      ]
     },
     "execution_count": 21,
     "metadata": {},
     "output_type": "execute_result"
    }
   ],
   "source": [
    "Gift_Items"
   ]
  },
  {
   "cell_type": "code",
   "execution_count": 22,
   "id": "53e96a45",
   "metadata": {},
   "outputs": [],
   "source": [
    "Gift_Items.sort()"
   ]
  },
  {
   "cell_type": "code",
   "execution_count": 24,
   "id": "c032c18b",
   "metadata": {},
   "outputs": [
    {
     "name": "stdout",
     "output_type": "stream",
     "text": [
      "['Air-conditioner', 'IPhone', 'bag', 'bag', 'bowl', 'cap', 'cup', 'dairy-milk', 'doll', 'fridge', 'fridge', 'glass', 'guitar', 'laptop', 'pen', 'plate', 'washing-maching', 'watch', 'water-bottle']\n"
     ]
    }
   ],
   "source": [
    "print(Gift_Items)"
   ]
  },
  {
   "cell_type": "code",
   "execution_count": 25,
   "id": "290ee1d7",
   "metadata": {},
   "outputs": [
    {
     "data": {
      "text/plain": [
       "['bat', 'ball', 'stump', 'bails', 'helmet']"
      ]
     },
     "execution_count": 25,
     "metadata": {},
     "output_type": "execute_result"
    }
   ],
   "source": [
    "nested_list"
   ]
  },
  {
   "cell_type": "code",
   "execution_count": 26,
   "id": "5d2710cb",
   "metadata": {},
   "outputs": [],
   "source": [
    "Gift_Items.append(nested_list)"
   ]
  },
  {
   "cell_type": "code",
   "execution_count": 27,
   "id": "ec99e21c",
   "metadata": {},
   "outputs": [
    {
     "data": {
      "text/plain": [
       "['Air-conditioner',\n",
       " 'IPhone',\n",
       " 'bag',\n",
       " 'bag',\n",
       " 'bowl',\n",
       " 'cap',\n",
       " 'cup',\n",
       " 'dairy-milk',\n",
       " 'doll',\n",
       " 'fridge',\n",
       " 'fridge',\n",
       " 'glass',\n",
       " 'guitar',\n",
       " 'laptop',\n",
       " 'pen',\n",
       " 'plate',\n",
       " 'washing-maching',\n",
       " 'watch',\n",
       " 'water-bottle',\n",
       " ['bat', 'ball', 'stump', 'bails', 'helmet']]"
      ]
     },
     "execution_count": 27,
     "metadata": {},
     "output_type": "execute_result"
    }
   ],
   "source": [
    "Gift_Items"
   ]
  },
  {
   "cell_type": "code",
   "execution_count": 28,
   "id": "90b2d097",
   "metadata": {},
   "outputs": [
    {
     "ename": "TypeError",
     "evalue": "'<' not supported between instances of 'list' and 'str'",
     "output_type": "error",
     "traceback": [
      "\u001b[1;31m---------------------------------------------------------------------------\u001b[0m",
      "\u001b[1;31mTypeError\u001b[0m                                 Traceback (most recent call last)",
      "Input \u001b[1;32mIn [28]\u001b[0m, in \u001b[0;36m<cell line: 1>\u001b[1;34m()\u001b[0m\n\u001b[1;32m----> 1\u001b[0m \u001b[43mGift_Items\u001b[49m\u001b[38;5;241;43m.\u001b[39;49m\u001b[43msort\u001b[49m\u001b[43m(\u001b[49m\u001b[43m)\u001b[49m\n",
      "\u001b[1;31mTypeError\u001b[0m: '<' not supported between instances of 'list' and 'str'"
     ]
    }
   ],
   "source": [
    "Gift_Items.sort()"
   ]
  },
  {
   "cell_type": "code",
   "execution_count": 29,
   "id": "dc15f4ef",
   "metadata": {},
   "outputs": [],
   "source": [
    "del Gift_Items[-1]"
   ]
  },
  {
   "cell_type": "code",
   "execution_count": 30,
   "id": "156756cf",
   "metadata": {},
   "outputs": [
    {
     "data": {
      "text/plain": [
       "['Air-conditioner',\n",
       " 'IPhone',\n",
       " 'bag',\n",
       " 'bag',\n",
       " 'bowl',\n",
       " 'cap',\n",
       " 'cup',\n",
       " 'dairy-milk',\n",
       " 'doll',\n",
       " 'fridge',\n",
       " 'fridge',\n",
       " 'glass',\n",
       " 'guitar',\n",
       " 'laptop',\n",
       " 'pen',\n",
       " 'plate',\n",
       " 'washing-maching',\n",
       " 'watch',\n",
       " 'water-bottle']"
      ]
     },
     "execution_count": 30,
     "metadata": {},
     "output_type": "execute_result"
    }
   ],
   "source": [
    "Gift_Items"
   ]
  },
  {
   "cell_type": "code",
   "execution_count": 37,
   "id": "d2f5c5a5",
   "metadata": {},
   "outputs": [],
   "source": [
    "Gift_Items.sort(reverse=True)"
   ]
  },
  {
   "cell_type": "code",
   "execution_count": 38,
   "id": "16b0a1f8",
   "metadata": {},
   "outputs": [
    {
     "data": {
      "text/plain": [
       "['water-bottle',\n",
       " 'watch',\n",
       " 'washing-maching',\n",
       " 'plate',\n",
       " 'pen',\n",
       " 'laptop',\n",
       " 'guitar',\n",
       " 'glass',\n",
       " 'fridge',\n",
       " 'fridge',\n",
       " 'doll',\n",
       " 'dairy-milk',\n",
       " 'cup',\n",
       " 'cap',\n",
       " 'bowl',\n",
       " 'bag',\n",
       " 'bag',\n",
       " 'IPhone',\n",
       " 'Air-conditioner']"
      ]
     },
     "execution_count": 38,
     "metadata": {},
     "output_type": "execute_result"
    }
   ],
   "source": [
    "Gift_Items"
   ]
  },
  {
   "cell_type": "code",
   "execution_count": 40,
   "id": "b7694d34",
   "metadata": {},
   "outputs": [],
   "source": [
    "Gift_Items.append(nested_list)"
   ]
  },
  {
   "cell_type": "code",
   "execution_count": 42,
   "id": "9ba84e4b",
   "metadata": {},
   "outputs": [
    {
     "name": "stdout",
     "output_type": "stream",
     "text": [
      "['water-bottle', 'watch', 'washing-maching', 'plate', 'pen', 'laptop', 'guitar', 'glass', 'fridge', 'fridge', 'doll', 'dairy-milk', 'cup', 'cap', 'bowl', 'bag', 'bag', 'IPhone', 'Air-conditioner', ['bat', 'ball', 'stump', 'bails', 'helmet']]\n"
     ]
    }
   ],
   "source": [
    "print(Gift_Items)"
   ]
  },
  {
   "cell_type": "code",
   "execution_count": 43,
   "id": "dbabbb40",
   "metadata": {},
   "outputs": [
    {
     "data": {
      "text/plain": [
       "'dairy-milk'"
      ]
     },
     "execution_count": 43,
     "metadata": {},
     "output_type": "execute_result"
    }
   ],
   "source": [
    "Gift_Items[-9]"
   ]
  },
  {
   "cell_type": "code",
   "execution_count": 45,
   "id": "9554dbf8",
   "metadata": {},
   "outputs": [
    {
     "name": "stdout",
     "output_type": "stream",
     "text": [
      "['water-bottle', 'watch', 'washing-maching', 'plate', 'pen', 'laptop', 'guitar', 'glass', 'fridge', 'fridge', 'doll', 'dairy-milk', 'cup', 'cap', 'bowl', 'bag', 'bag', 'IPhone', 'Air-conditioner', ['bat', 'ball', 'stump', 'bails', 'helmet']]\n"
     ]
    }
   ],
   "source": [
    "print(Gift_Items)"
   ]
  },
  {
   "cell_type": "code",
   "execution_count": 46,
   "id": "54769c26",
   "metadata": {},
   "outputs": [
    {
     "data": {
      "text/plain": [
       "'plate'"
      ]
     },
     "execution_count": 46,
     "metadata": {},
     "output_type": "execute_result"
    }
   ],
   "source": [
    "Gift_Items[3]"
   ]
  },
  {
   "cell_type": "code",
   "execution_count": 54,
   "id": "ebe6f55c",
   "metadata": {},
   "outputs": [
    {
     "data": {
      "text/plain": [
       "'stump'"
      ]
     },
     "execution_count": 54,
     "metadata": {},
     "output_type": "execute_result"
    }
   ],
   "source": [
    "Gift_Items[-1][-3]"
   ]
  },
  {
   "cell_type": "code",
   "execution_count": 57,
   "id": "a7087325",
   "metadata": {},
   "outputs": [
    {
     "data": {
      "text/plain": [
       "['water-bottle', 'watch', 'washing-maching', 'plate']"
      ]
     },
     "execution_count": 57,
     "metadata": {},
     "output_type": "execute_result"
    }
   ],
   "source": [
    "# print 'water-bottle', 'watch', 'washing-maching', 'plate' using slicing methord.\n",
    "\n",
    "Gift_Items[0:4]"
   ]
  },
  {
   "cell_type": "code",
   "execution_count": 61,
   "id": "4ea478c2",
   "metadata": {},
   "outputs": [
    {
     "data": {
      "text/plain": [
       "['fridge',\n",
       " 'fridge',\n",
       " 'doll',\n",
       " 'dairy-milk',\n",
       " 'cup',\n",
       " 'cap',\n",
       " 'bowl',\n",
       " 'bag',\n",
       " 'bag',\n",
       " 'IPhone']"
      ]
     },
     "execution_count": 61,
     "metadata": {},
     "output_type": "execute_result"
    }
   ],
   "source": [
    "# print fridge', 'fridge', 'doll', 'dairy-milk', 'cup', 'cap', 'bowl', 'bag', 'bag', 'IPhone' using reverse slicing methord.\n",
    "\n",
    "Gift_Items[-12:-2]"
   ]
  },
  {
   "cell_type": "code",
   "execution_count": 63,
   "id": "36fcb901",
   "metadata": {},
   "outputs": [
    {
     "name": "stdout",
     "output_type": "stream",
     "text": [
      "['water-bottle', 'watch', 'washing-maching', 'plate', 'pen', 'laptop', 'guitar', 'glass', 'fridge', 'fridge', 'doll', 'dairy-milk', 'cup', 'cap', 'bowl', 'bag', 'bag', 'IPhone', 'Air-conditioner', ['bat', 'ball', 'stump', 'bails', 'helmet']]\n"
     ]
    }
   ],
   "source": [
    "print(Gift_Items)"
   ]
  },
  {
   "cell_type": "code",
   "execution_count": 67,
   "id": "7f355377",
   "metadata": {},
   "outputs": [
    {
     "data": {
      "text/plain": [
       "['ball', 'stump', 'bails']"
      ]
     },
     "execution_count": 67,
     "metadata": {},
     "output_type": "execute_result"
    }
   ],
   "source": [
    "# print 'ball', 'stump', 'bails' using slicing methord.\n",
    "\n",
    "Gift_Items[19][1:4]"
   ]
  },
  {
   "cell_type": "code",
   "execution_count": 68,
   "id": "2b2d2382",
   "metadata": {},
   "outputs": [
    {
     "name": "stdout",
     "output_type": "stream",
     "text": [
      "['water-bottle', 'watch', 'washing-maching', 'plate', 'pen', 'laptop', 'guitar', 'glass', 'fridge', 'fridge', 'doll', 'dairy-milk', 'cup', 'cap', 'bowl', 'bag', 'bag', 'IPhone', 'Air-conditioner', ['bat', 'ball', 'stump', 'bails', 'helmet']]\n"
     ]
    }
   ],
   "source": [
    "print(Gift_Items)"
   ]
  },
  {
   "cell_type": "code",
   "execution_count": 70,
   "id": "93162870",
   "metadata": {},
   "outputs": [],
   "source": [
    "# We use remove() function to remove specific element from the list.\n",
    "\n",
    "Gift_Items.remove('washing-maching')"
   ]
  },
  {
   "cell_type": "code",
   "execution_count": 71,
   "id": "91505e5e",
   "metadata": {},
   "outputs": [
    {
     "data": {
      "text/plain": [
       "['water-bottle',\n",
       " 'watch',\n",
       " 'plate',\n",
       " 'pen',\n",
       " 'laptop',\n",
       " 'guitar',\n",
       " 'glass',\n",
       " 'fridge',\n",
       " 'fridge',\n",
       " 'doll',\n",
       " 'dairy-milk',\n",
       " 'cup',\n",
       " 'cap',\n",
       " 'bowl',\n",
       " 'bag',\n",
       " 'bag',\n",
       " 'IPhone',\n",
       " 'Air-conditioner',\n",
       " ['bat', 'ball', 'stump', 'bails', 'helmet']]"
      ]
     },
     "execution_count": 71,
     "metadata": {},
     "output_type": "execute_result"
    }
   ],
   "source": [
    "Gift_Items"
   ]
  },
  {
   "cell_type": "code",
   "execution_count": 72,
   "id": "a077b526",
   "metadata": {},
   "outputs": [
    {
     "ename": "ValueError",
     "evalue": "list.remove(x): x not in list",
     "output_type": "error",
     "traceback": [
      "\u001b[1;31m---------------------------------------------------------------------------\u001b[0m",
      "\u001b[1;31mValueError\u001b[0m                                Traceback (most recent call last)",
      "Input \u001b[1;32mIn [72]\u001b[0m, in \u001b[0;36m<cell line: 1>\u001b[1;34m()\u001b[0m\n\u001b[1;32m----> 1\u001b[0m \u001b[43mGift_Items\u001b[49m\u001b[38;5;241;43m.\u001b[39;49m\u001b[43mremove\u001b[49m\u001b[43m(\u001b[49m\u001b[38;5;124;43m'\u001b[39;49m\u001b[38;5;124;43mball\u001b[39;49m\u001b[38;5;124;43m'\u001b[39;49m\u001b[43m)\u001b[49m\n",
      "\u001b[1;31mValueError\u001b[0m: list.remove(x): x not in list"
     ]
    }
   ],
   "source": [
    "Gift_Items.remove('ball')"
   ]
  },
  {
   "cell_type": "code",
   "execution_count": 73,
   "id": "275598cd",
   "metadata": {},
   "outputs": [],
   "source": [
    "Gift_Items.remove('dairy-milk')"
   ]
  },
  {
   "cell_type": "code",
   "execution_count": 74,
   "id": "4d1e85b9",
   "metadata": {},
   "outputs": [
    {
     "data": {
      "text/plain": [
       "['water-bottle',\n",
       " 'watch',\n",
       " 'plate',\n",
       " 'pen',\n",
       " 'laptop',\n",
       " 'guitar',\n",
       " 'glass',\n",
       " 'fridge',\n",
       " 'fridge',\n",
       " 'doll',\n",
       " 'cup',\n",
       " 'cap',\n",
       " 'bowl',\n",
       " 'bag',\n",
       " 'bag',\n",
       " 'IPhone',\n",
       " 'Air-conditioner',\n",
       " ['bat', 'ball', 'stump', 'bails', 'helmet']]"
      ]
     },
     "execution_count": 74,
     "metadata": {},
     "output_type": "execute_result"
    }
   ],
   "source": [
    "Gift_Items"
   ]
  },
  {
   "cell_type": "code",
   "execution_count": 75,
   "id": "2f95025f",
   "metadata": {},
   "outputs": [],
   "source": [
    "Gift_Items.remove('fridge')"
   ]
  },
  {
   "cell_type": "code",
   "execution_count": 76,
   "id": "0d22e57c",
   "metadata": {},
   "outputs": [
    {
     "data": {
      "text/plain": [
       "['water-bottle',\n",
       " 'watch',\n",
       " 'plate',\n",
       " 'pen',\n",
       " 'laptop',\n",
       " 'guitar',\n",
       " 'glass',\n",
       " 'fridge',\n",
       " 'doll',\n",
       " 'cup',\n",
       " 'cap',\n",
       " 'bowl',\n",
       " 'bag',\n",
       " 'bag',\n",
       " 'IPhone',\n",
       " 'Air-conditioner',\n",
       " ['bat', 'ball', 'stump', 'bails', 'helmet']]"
      ]
     },
     "execution_count": 76,
     "metadata": {},
     "output_type": "execute_result"
    }
   ],
   "source": [
    "Gift_Items"
   ]
  },
  {
   "cell_type": "code",
   "execution_count": 77,
   "id": "a10c6d57",
   "metadata": {},
   "outputs": [],
   "source": [
    "Gift_Items.append('fridge')"
   ]
  },
  {
   "cell_type": "code",
   "execution_count": 78,
   "id": "2e52d0e8",
   "metadata": {},
   "outputs": [
    {
     "data": {
      "text/plain": [
       "['water-bottle',\n",
       " 'watch',\n",
       " 'plate',\n",
       " 'pen',\n",
       " 'laptop',\n",
       " 'guitar',\n",
       " 'glass',\n",
       " 'fridge',\n",
       " 'doll',\n",
       " 'cup',\n",
       " 'cap',\n",
       " 'bowl',\n",
       " 'bag',\n",
       " 'bag',\n",
       " 'IPhone',\n",
       " 'Air-conditioner',\n",
       " ['bat', 'ball', 'stump', 'bails', 'helmet'],\n",
       " 'fridge']"
      ]
     },
     "execution_count": 78,
     "metadata": {},
     "output_type": "execute_result"
    }
   ],
   "source": [
    "Gift_Items"
   ]
  },
  {
   "cell_type": "code",
   "execution_count": 79,
   "id": "107684a6",
   "metadata": {},
   "outputs": [],
   "source": [
    "Gift_Items.append('fridge')"
   ]
  },
  {
   "cell_type": "code",
   "execution_count": 80,
   "id": "8459a07e",
   "metadata": {},
   "outputs": [
    {
     "data": {
      "text/plain": [
       "['water-bottle',\n",
       " 'watch',\n",
       " 'plate',\n",
       " 'pen',\n",
       " 'laptop',\n",
       " 'guitar',\n",
       " 'glass',\n",
       " 'fridge',\n",
       " 'doll',\n",
       " 'cup',\n",
       " 'cap',\n",
       " 'bowl',\n",
       " 'bag',\n",
       " 'bag',\n",
       " 'IPhone',\n",
       " 'Air-conditioner',\n",
       " ['bat', 'ball', 'stump', 'bails', 'helmet'],\n",
       " 'fridge',\n",
       " 'fridge']"
      ]
     },
     "execution_count": 80,
     "metadata": {},
     "output_type": "execute_result"
    }
   ],
   "source": [
    "Gift_Items\n"
   ]
  },
  {
   "cell_type": "code",
   "execution_count": 81,
   "id": "772f7ce3",
   "metadata": {},
   "outputs": [],
   "source": [
    "Gift_Items.remove('fridge')"
   ]
  },
  {
   "cell_type": "code",
   "execution_count": 82,
   "id": "7e0d4a34",
   "metadata": {},
   "outputs": [
    {
     "data": {
      "text/plain": [
       "['water-bottle',\n",
       " 'watch',\n",
       " 'plate',\n",
       " 'pen',\n",
       " 'laptop',\n",
       " 'guitar',\n",
       " 'glass',\n",
       " 'doll',\n",
       " 'cup',\n",
       " 'cap',\n",
       " 'bowl',\n",
       " 'bag',\n",
       " 'bag',\n",
       " 'IPhone',\n",
       " 'Air-conditioner',\n",
       " ['bat', 'ball', 'stump', 'bails', 'helmet'],\n",
       " 'fridge',\n",
       " 'fridge']"
      ]
     },
     "execution_count": 82,
     "metadata": {},
     "output_type": "execute_result"
    }
   ],
   "source": [
    "Gift_Items"
   ]
  },
  {
   "cell_type": "code",
   "execution_count": 83,
   "id": "a385e96d",
   "metadata": {},
   "outputs": [],
   "source": [
    "Gift_Items.remove('fridge')"
   ]
  },
  {
   "cell_type": "code",
   "execution_count": 84,
   "id": "d55c41f8",
   "metadata": {},
   "outputs": [
    {
     "data": {
      "text/plain": [
       "['water-bottle',\n",
       " 'watch',\n",
       " 'plate',\n",
       " 'pen',\n",
       " 'laptop',\n",
       " 'guitar',\n",
       " 'glass',\n",
       " 'doll',\n",
       " 'cup',\n",
       " 'cap',\n",
       " 'bowl',\n",
       " 'bag',\n",
       " 'bag',\n",
       " 'IPhone',\n",
       " 'Air-conditioner',\n",
       " ['bat', 'ball', 'stump', 'bails', 'helmet'],\n",
       " 'fridge']"
      ]
     },
     "execution_count": 84,
     "metadata": {},
     "output_type": "execute_result"
    }
   ],
   "source": [
    "Gift_Items"
   ]
  },
  {
   "cell_type": "code",
   "execution_count": 86,
   "id": "ceb9d0df",
   "metadata": {},
   "outputs": [],
   "source": [
    "Gift_Items.append('Fridge')"
   ]
  },
  {
   "cell_type": "code",
   "execution_count": 87,
   "id": "bb0cb22e",
   "metadata": {},
   "outputs": [
    {
     "data": {
      "text/plain": [
       "['water-bottle',\n",
       " 'watch',\n",
       " 'plate',\n",
       " 'pen',\n",
       " 'laptop',\n",
       " 'guitar',\n",
       " 'glass',\n",
       " 'doll',\n",
       " 'cup',\n",
       " 'cap',\n",
       " 'bowl',\n",
       " 'bag',\n",
       " 'bag',\n",
       " 'IPhone',\n",
       " 'Air-conditioner',\n",
       " ['bat', 'ball', 'stump', 'bails', 'helmet'],\n",
       " 'fridge',\n",
       " 'Fridge']"
      ]
     },
     "execution_count": 87,
     "metadata": {},
     "output_type": "execute_result"
    }
   ],
   "source": [
    "Gift_Items"
   ]
  },
  {
   "cell_type": "code",
   "execution_count": 88,
   "id": "82560c80",
   "metadata": {},
   "outputs": [],
   "source": [
    "Gift_Items.remove('fridge')"
   ]
  },
  {
   "cell_type": "code",
   "execution_count": 89,
   "id": "b719413d",
   "metadata": {},
   "outputs": [
    {
     "data": {
      "text/plain": [
       "['water-bottle',\n",
       " 'watch',\n",
       " 'plate',\n",
       " 'pen',\n",
       " 'laptop',\n",
       " 'guitar',\n",
       " 'glass',\n",
       " 'doll',\n",
       " 'cup',\n",
       " 'cap',\n",
       " 'bowl',\n",
       " 'bag',\n",
       " 'bag',\n",
       " 'IPhone',\n",
       " 'Air-conditioner',\n",
       " ['bat', 'ball', 'stump', 'bails', 'helmet'],\n",
       " 'Fridge']"
      ]
     },
     "execution_count": 89,
     "metadata": {},
     "output_type": "execute_result"
    }
   ],
   "source": [
    "Gift_Items"
   ]
  },
  {
   "cell_type": "code",
   "execution_count": 90,
   "id": "4f5ab327",
   "metadata": {},
   "outputs": [],
   "source": [
    "Gift_Items.append('Fridge')\n",
    "Gift_Items.append('Fridge')\n",
    "Gift_Items.append('Fridge')\n",
    "Gift_Items.append('Fridge')\n",
    "\n"
   ]
  },
  {
   "cell_type": "code",
   "execution_count": 91,
   "id": "49e16c50",
   "metadata": {},
   "outputs": [
    {
     "data": {
      "text/plain": [
       "['water-bottle',\n",
       " 'watch',\n",
       " 'plate',\n",
       " 'pen',\n",
       " 'laptop',\n",
       " 'guitar',\n",
       " 'glass',\n",
       " 'doll',\n",
       " 'cup',\n",
       " 'cap',\n",
       " 'bowl',\n",
       " 'bag',\n",
       " 'bag',\n",
       " 'IPhone',\n",
       " 'Air-conditioner',\n",
       " ['bat', 'ball', 'stump', 'bails', 'helmet'],\n",
       " 'Fridge',\n",
       " 'Fridge',\n",
       " 'Fridge',\n",
       " 'Fridge',\n",
       " 'Fridge']"
      ]
     },
     "execution_count": 91,
     "metadata": {},
     "output_type": "execute_result"
    }
   ],
   "source": [
    "Gift_Items"
   ]
  },
  {
   "cell_type": "code",
   "execution_count": 92,
   "id": "39bbef87",
   "metadata": {},
   "outputs": [],
   "source": [
    "# So if we have to remove the 3 Fridge from the list then we cannot use remove() function. We will use del function.\n",
    "\n",
    "del Gift_Items[-3]"
   ]
  },
  {
   "cell_type": "code",
   "execution_count": 93,
   "id": "6ad1f503",
   "metadata": {},
   "outputs": [
    {
     "data": {
      "text/plain": [
       "['water-bottle',\n",
       " 'watch',\n",
       " 'plate',\n",
       " 'pen',\n",
       " 'laptop',\n",
       " 'guitar',\n",
       " 'glass',\n",
       " 'doll',\n",
       " 'cup',\n",
       " 'cap',\n",
       " 'bowl',\n",
       " 'bag',\n",
       " 'bag',\n",
       " 'IPhone',\n",
       " 'Air-conditioner',\n",
       " ['bat', 'ball', 'stump', 'bails', 'helmet'],\n",
       " 'Fridge',\n",
       " 'Fridge',\n",
       " 'Fridge',\n",
       " 'Fridge']"
      ]
     },
     "execution_count": 93,
     "metadata": {},
     "output_type": "execute_result"
    }
   ],
   "source": [
    "Gift_Items"
   ]
  },
  {
   "cell_type": "code",
   "execution_count": 94,
   "id": "70cab202",
   "metadata": {},
   "outputs": [],
   "source": [
    "new1_list = ['fridge','mouse','mouse','cup','cup','speaker']"
   ]
  },
  {
   "cell_type": "code",
   "execution_count": 95,
   "id": "89c4331e",
   "metadata": {},
   "outputs": [],
   "source": [
    "Gift_Items.append(new1_list)"
   ]
  },
  {
   "cell_type": "code",
   "execution_count": 96,
   "id": "c1ab2444",
   "metadata": {},
   "outputs": [
    {
     "data": {
      "text/plain": [
       "['water-bottle',\n",
       " 'watch',\n",
       " 'plate',\n",
       " 'pen',\n",
       " 'laptop',\n",
       " 'guitar',\n",
       " 'glass',\n",
       " 'doll',\n",
       " 'cup',\n",
       " 'cap',\n",
       " 'bowl',\n",
       " 'bag',\n",
       " 'bag',\n",
       " 'IPhone',\n",
       " 'Air-conditioner',\n",
       " ['bat', 'ball', 'stump', 'bails', 'helmet'],\n",
       " 'Fridge',\n",
       " 'Fridge',\n",
       " 'Fridge',\n",
       " 'Fridge',\n",
       " ['fridge', 'mouse', 'mouse', 'cup', 'cup', 'speaker']]"
      ]
     },
     "execution_count": 96,
     "metadata": {},
     "output_type": "execute_result"
    }
   ],
   "source": [
    "Gift_Items"
   ]
  },
  {
   "cell_type": "code",
   "execution_count": 97,
   "id": "20c9b436",
   "metadata": {},
   "outputs": [
    {
     "ename": "ValueError",
     "evalue": "list.remove(x): x not in list",
     "output_type": "error",
     "traceback": [
      "\u001b[1;31m---------------------------------------------------------------------------\u001b[0m",
      "\u001b[1;31mValueError\u001b[0m                                Traceback (most recent call last)",
      "Input \u001b[1;32mIn [97]\u001b[0m, in \u001b[0;36m<cell line: 1>\u001b[1;34m()\u001b[0m\n\u001b[1;32m----> 1\u001b[0m \u001b[43mGift_Items\u001b[49m\u001b[38;5;241;43m.\u001b[39;49m\u001b[43mremove\u001b[49m\u001b[43m(\u001b[49m\u001b[38;5;124;43m'\u001b[39;49m\u001b[38;5;124;43mmouse\u001b[39;49m\u001b[38;5;124;43m'\u001b[39;49m\u001b[43m)\u001b[49m\n",
      "\u001b[1;31mValueError\u001b[0m: list.remove(x): x not in list"
     ]
    }
   ],
   "source": [
    "Gift_Items.remove('mouse')"
   ]
  },
  {
   "cell_type": "code",
   "execution_count": 98,
   "id": "5bf74981",
   "metadata": {},
   "outputs": [],
   "source": [
    "del Gift_Items[-1][2]"
   ]
  },
  {
   "cell_type": "code",
   "execution_count": 99,
   "id": "f7621e75",
   "metadata": {},
   "outputs": [
    {
     "data": {
      "text/plain": [
       "['water-bottle',\n",
       " 'watch',\n",
       " 'plate',\n",
       " 'pen',\n",
       " 'laptop',\n",
       " 'guitar',\n",
       " 'glass',\n",
       " 'doll',\n",
       " 'cup',\n",
       " 'cap',\n",
       " 'bowl',\n",
       " 'bag',\n",
       " 'bag',\n",
       " 'IPhone',\n",
       " 'Air-conditioner',\n",
       " ['bat', 'ball', 'stump', 'bails', 'helmet'],\n",
       " 'Fridge',\n",
       " 'Fridge',\n",
       " 'Fridge',\n",
       " 'Fridge',\n",
       " ['fridge', 'mouse', 'cup', 'cup', 'speaker']]"
      ]
     },
     "execution_count": 99,
     "metadata": {},
     "output_type": "execute_result"
    }
   ],
   "source": [
    "Gift_Items"
   ]
  },
  {
   "cell_type": "code",
   "execution_count": 100,
   "id": "9e64a89c",
   "metadata": {},
   "outputs": [],
   "source": [
    "del Gift_Items[-6][1]"
   ]
  },
  {
   "cell_type": "code",
   "execution_count": 101,
   "id": "c33ac2a2",
   "metadata": {},
   "outputs": [
    {
     "data": {
      "text/plain": [
       "['water-bottle',\n",
       " 'watch',\n",
       " 'plate',\n",
       " 'pen',\n",
       " 'laptop',\n",
       " 'guitar',\n",
       " 'glass',\n",
       " 'doll',\n",
       " 'cup',\n",
       " 'cap',\n",
       " 'bowl',\n",
       " 'bag',\n",
       " 'bag',\n",
       " 'IPhone',\n",
       " 'Air-conditioner',\n",
       " ['bat', 'stump', 'bails', 'helmet'],\n",
       " 'Fridge',\n",
       " 'Fridge',\n",
       " 'Fridge',\n",
       " 'Fridge',\n",
       " ['fridge', 'mouse', 'cup', 'cup', 'speaker']]"
      ]
     },
     "execution_count": 101,
     "metadata": {},
     "output_type": "execute_result"
    }
   ],
   "source": [
    "Gift_Items"
   ]
  },
  {
   "cell_type": "code",
   "execution_count": 102,
   "id": "bceaad60",
   "metadata": {},
   "outputs": [
    {
     "data": {
      "text/plain": [
       "['fridge', 'mouse', 'cup', 'cup', 'speaker']"
      ]
     },
     "execution_count": 102,
     "metadata": {},
     "output_type": "execute_result"
    }
   ],
   "source": [
    "# Let's use Pop function to remove element fromt he list and store it.\n",
    "\n",
    "Gift_Items.pop()"
   ]
  },
  {
   "cell_type": "code",
   "execution_count": 103,
   "id": "a3b41204",
   "metadata": {},
   "outputs": [
    {
     "data": {
      "text/plain": [
       "['water-bottle',\n",
       " 'watch',\n",
       " 'plate',\n",
       " 'pen',\n",
       " 'laptop',\n",
       " 'guitar',\n",
       " 'glass',\n",
       " 'doll',\n",
       " 'cup',\n",
       " 'cap',\n",
       " 'bowl',\n",
       " 'bag',\n",
       " 'bag',\n",
       " 'IPhone',\n",
       " 'Air-conditioner',\n",
       " ['bat', 'stump', 'bails', 'helmet'],\n",
       " 'Fridge',\n",
       " 'Fridge',\n",
       " 'Fridge',\n",
       " 'Fridge']"
      ]
     },
     "execution_count": 103,
     "metadata": {},
     "output_type": "execute_result"
    }
   ],
   "source": [
    "Gift_Items"
   ]
  },
  {
   "cell_type": "code",
   "execution_count": 104,
   "id": "b8efce4e",
   "metadata": {},
   "outputs": [
    {
     "ename": "TypeError",
     "evalue": "'str' object cannot be interpreted as an integer",
     "output_type": "error",
     "traceback": [
      "\u001b[1;31m---------------------------------------------------------------------------\u001b[0m",
      "\u001b[1;31mTypeError\u001b[0m                                 Traceback (most recent call last)",
      "Input \u001b[1;32mIn [104]\u001b[0m, in \u001b[0;36m<cell line: 1>\u001b[1;34m()\u001b[0m\n\u001b[1;32m----> 1\u001b[0m \u001b[43mGift_Items\u001b[49m\u001b[38;5;241;43m.\u001b[39;49m\u001b[43mpop\u001b[49m\u001b[43m(\u001b[49m\u001b[38;5;124;43m'\u001b[39;49m\u001b[38;5;124;43mFridge\u001b[39;49m\u001b[38;5;124;43m'\u001b[39;49m\u001b[43m)\u001b[49m\n",
      "\u001b[1;31mTypeError\u001b[0m: 'str' object cannot be interpreted as an integer"
     ]
    }
   ],
   "source": [
    "Gift_Items.pop('Fridge')"
   ]
  },
  {
   "cell_type": "code",
   "execution_count": 106,
   "id": "a8a8a147",
   "metadata": {},
   "outputs": [
    {
     "data": {
      "text/plain": [
       "'Fridge'"
      ]
     },
     "execution_count": 106,
     "metadata": {},
     "output_type": "execute_result"
    }
   ],
   "source": [
    "Gift_Items.pop(-3)"
   ]
  },
  {
   "cell_type": "code",
   "execution_count": 107,
   "id": "0b2bff18",
   "metadata": {},
   "outputs": [
    {
     "data": {
      "text/plain": [
       "['water-bottle',\n",
       " 'watch',\n",
       " 'plate',\n",
       " 'pen',\n",
       " 'laptop',\n",
       " 'guitar',\n",
       " 'glass',\n",
       " 'doll',\n",
       " 'cup',\n",
       " 'cap',\n",
       " 'bowl',\n",
       " 'bag',\n",
       " 'bag',\n",
       " 'IPhone',\n",
       " 'Air-conditioner',\n",
       " ['bat', 'stump', 'bails', 'helmet'],\n",
       " 'Fridge',\n",
       " 'Fridge',\n",
       " 'Fridge']"
      ]
     },
     "execution_count": 107,
     "metadata": {},
     "output_type": "execute_result"
    }
   ],
   "source": [
    "Gift_Items"
   ]
  },
  {
   "cell_type": "code",
   "execution_count": 108,
   "id": "d461f930",
   "metadata": {},
   "outputs": [
    {
     "name": "stdout",
     "output_type": "stream",
     "text": [
      "The removed item from list is : ['bat', 'stump', 'bails', 'helmet']\n"
     ]
    }
   ],
   "source": [
    "removed_item = Gift_Items.pop(-4)\n",
    "print(\"The removed item from list is :\", removed_item)"
   ]
  },
  {
   "cell_type": "code",
   "execution_count": 111,
   "id": "db55c46a",
   "metadata": {},
   "outputs": [
    {
     "data": {
      "text/plain": [
       "['water-bottle',\n",
       " 'watch',\n",
       " 'plate',\n",
       " 'pen',\n",
       " 'laptop',\n",
       " 'guitar',\n",
       " 'glass',\n",
       " 'doll',\n",
       " 'cup',\n",
       " 'cap',\n",
       " 'bowl',\n",
       " 'bag',\n",
       " 'bag',\n",
       " 'IPhone',\n",
       " 'Air-conditioner',\n",
       " 'Fridge',\n",
       " 'Fridge',\n",
       " 'Fridge']"
      ]
     },
     "execution_count": 111,
     "metadata": {},
     "output_type": "execute_result"
    }
   ],
   "source": [
    "Gift_Items"
   ]
  },
  {
   "cell_type": "code",
   "execution_count": 112,
   "id": "8c091486",
   "metadata": {},
   "outputs": [
    {
     "data": {
      "text/plain": [
       "list"
      ]
     },
     "execution_count": 112,
     "metadata": {},
     "output_type": "execute_result"
    }
   ],
   "source": [
    "type(removed_item)"
   ]
  },
  {
   "cell_type": "code",
   "execution_count": 113,
   "id": "423bc3f9",
   "metadata": {},
   "outputs": [],
   "source": [
    "Gift_Items.append(removed_item)"
   ]
  },
  {
   "cell_type": "code",
   "execution_count": 115,
   "id": "97c3c20e",
   "metadata": {},
   "outputs": [],
   "source": [
    "del Gift_Items[2:6]"
   ]
  },
  {
   "cell_type": "code",
   "execution_count": 116,
   "id": "3bd69b86",
   "metadata": {},
   "outputs": [
    {
     "data": {
      "text/plain": [
       "['water-bottle',\n",
       " 'watch',\n",
       " 'glass',\n",
       " 'doll',\n",
       " 'cup',\n",
       " 'cap',\n",
       " 'bowl',\n",
       " 'bag',\n",
       " 'bag',\n",
       " 'IPhone',\n",
       " 'Air-conditioner',\n",
       " 'Fridge',\n",
       " 'Fridge',\n",
       " 'Fridge',\n",
       " ['bat', 'stump', 'bails', 'helmet']]"
      ]
     },
     "execution_count": 116,
     "metadata": {},
     "output_type": "execute_result"
    }
   ],
   "source": [
    "Gift_Items"
   ]
  },
  {
   "cell_type": "code",
   "execution_count": 117,
   "id": "6c31499f",
   "metadata": {},
   "outputs": [
    {
     "data": {
      "text/plain": [
       "'bag'"
      ]
     },
     "execution_count": 117,
     "metadata": {},
     "output_type": "execute_result"
    }
   ],
   "source": [
    "Gift_Items.pop(7)"
   ]
  },
  {
   "cell_type": "code",
   "execution_count": 118,
   "id": "d7b8b367",
   "metadata": {},
   "outputs": [
    {
     "data": {
      "text/plain": [
       "['water-bottle',\n",
       " 'watch',\n",
       " 'glass',\n",
       " 'doll',\n",
       " 'cup',\n",
       " 'cap',\n",
       " 'bowl',\n",
       " 'bag',\n",
       " 'IPhone',\n",
       " 'Air-conditioner',\n",
       " 'Fridge',\n",
       " 'Fridge',\n",
       " 'Fridge',\n",
       " ['bat', 'stump', 'bails', 'helmet']]"
      ]
     },
     "execution_count": 118,
     "metadata": {},
     "output_type": "execute_result"
    }
   ],
   "source": [
    "Gift_Items"
   ]
  },
  {
   "cell_type": "code",
   "execution_count": 119,
   "id": "9108e43a",
   "metadata": {},
   "outputs": [
    {
     "ename": "SyntaxError",
     "evalue": "invalid syntax (4047066787.py, line 1)",
     "output_type": "error",
     "traceback": [
      "\u001b[1;36m  Input \u001b[1;32mIn [119]\u001b[1;36m\u001b[0m\n\u001b[1;33m    Gift_Items.pop(3:7)\u001b[0m\n\u001b[1;37m                    ^\u001b[0m\n\u001b[1;31mSyntaxError\u001b[0m\u001b[1;31m:\u001b[0m invalid syntax\n"
     ]
    }
   ],
   "source": [
    "Gift_Items.pop(3:7)"
   ]
  },
  {
   "cell_type": "code",
   "execution_count": 120,
   "id": "73887765",
   "metadata": {},
   "outputs": [],
   "source": [
    "del Gift_Items[0]\n",
    "del Gift_Items[2]\n",
    "del Gift_Items[2]\n"
   ]
  },
  {
   "cell_type": "code",
   "execution_count": 121,
   "id": "68a3027c",
   "metadata": {},
   "outputs": [
    {
     "data": {
      "text/plain": [
       "['watch',\n",
       " 'glass',\n",
       " 'cap',\n",
       " 'bowl',\n",
       " 'bag',\n",
       " 'IPhone',\n",
       " 'Air-conditioner',\n",
       " 'Fridge',\n",
       " 'Fridge',\n",
       " 'Fridge',\n",
       " ['bat', 'stump', 'bails', 'helmet']]"
      ]
     },
     "execution_count": 121,
     "metadata": {},
     "output_type": "execute_result"
    }
   ],
   "source": [
    "Gift_Items"
   ]
  },
  {
   "cell_type": "code",
   "execution_count": 122,
   "id": "5d080c0e",
   "metadata": {},
   "outputs": [
    {
     "data": {
      "text/plain": [
       "'Fridge'"
      ]
     },
     "execution_count": 122,
     "metadata": {},
     "output_type": "execute_result"
    }
   ],
   "source": [
    "Gift_Items.pop(-3)"
   ]
  },
  {
   "cell_type": "code",
   "execution_count": 123,
   "id": "d41ce062",
   "metadata": {},
   "outputs": [
    {
     "data": {
      "text/plain": [
       "['watch',\n",
       " 'glass',\n",
       " 'cap',\n",
       " 'bowl',\n",
       " 'bag',\n",
       " 'IPhone',\n",
       " 'Air-conditioner',\n",
       " 'Fridge',\n",
       " 'Fridge',\n",
       " ['bat', 'stump', 'bails', 'helmet']]"
      ]
     },
     "execution_count": 123,
     "metadata": {},
     "output_type": "execute_result"
    }
   ],
   "source": [
    "Gift_Items"
   ]
  },
  {
   "cell_type": "code",
   "execution_count": 124,
   "id": "313c8fd3",
   "metadata": {},
   "outputs": [],
   "source": [
    "out_item = Gift_Items.pop(-1)"
   ]
  },
  {
   "cell_type": "code",
   "execution_count": 125,
   "id": "bde0d24f",
   "metadata": {},
   "outputs": [
    {
     "name": "stdout",
     "output_type": "stream",
     "text": [
      "['bat', 'stump', 'bails', 'helmet']\n"
     ]
    }
   ],
   "source": [
    "print(out_item)"
   ]
  },
  {
   "cell_type": "code",
   "execution_count": 126,
   "id": "473a51fe",
   "metadata": {},
   "outputs": [],
   "source": [
    "Gift_Items.extend(out_item)"
   ]
  },
  {
   "cell_type": "code",
   "execution_count": 127,
   "id": "440a90bd",
   "metadata": {},
   "outputs": [
    {
     "data": {
      "text/plain": [
       "['watch',\n",
       " 'glass',\n",
       " 'cap',\n",
       " 'bowl',\n",
       " 'bag',\n",
       " 'IPhone',\n",
       " 'Air-conditioner',\n",
       " 'Fridge',\n",
       " 'Fridge',\n",
       " 'bat',\n",
       " 'stump',\n",
       " 'bails',\n",
       " 'helmet']"
      ]
     },
     "execution_count": 127,
     "metadata": {},
     "output_type": "execute_result"
    }
   ],
   "source": [
    "Gift_Items"
   ]
  },
  {
   "cell_type": "code",
   "execution_count": null,
   "id": "69f71315",
   "metadata": {},
   "outputs": [],
   "source": []
  },
  {
   "cell_type": "code",
   "execution_count": null,
   "id": "da8ed000",
   "metadata": {},
   "outputs": [],
   "source": []
  },
  {
   "cell_type": "markdown",
   "id": "e732f472",
   "metadata": {},
   "source": [
    "##  Data Structure :- Tuple"
   ]
  },
  {
   "cell_type": "code",
   "execution_count": 132,
   "id": "4f50943c",
   "metadata": {},
   "outputs": [],
   "source": [
    "days = ('sunday', 'monday', 'tuesday',' wednesday', 'thursday','friday','saturday','sunday','monday', 34, True, 6.8, 'monday', 67)"
   ]
  },
  {
   "cell_type": "code",
   "execution_count": 133,
   "id": "3f1cd31e",
   "metadata": {},
   "outputs": [
    {
     "data": {
      "text/plain": [
       "tuple"
      ]
     },
     "execution_count": 133,
     "metadata": {},
     "output_type": "execute_result"
    }
   ],
   "source": [
    "type(days)"
   ]
  },
  {
   "cell_type": "markdown",
   "id": "03361ea9",
   "metadata": {},
   "source": [
    "###  Did you Observe: -\n",
    "\n",
    "##### A Tuple is represented using small ( ) brackets.\n",
    "\n",
    "##### A Tuple contains duplicates.\n",
    "\n",
    "##### A Tuple may contains value of mixed datatypes.\n",
    "\n",
    "##### A Tuple is known for READ-ONLY NATURES, it means Tuple is Immutable.\n",
    "\n",
    "##### Let us confirm the READ-ONLY NATURES of a Tuple"
   ]
  },
  {
   "cell_type": "code",
   "execution_count": 134,
   "id": "291280bf",
   "metadata": {},
   "outputs": [
    {
     "ename": "AttributeError",
     "evalue": "'tuple' object has no attribute 'append'",
     "output_type": "error",
     "traceback": [
      "\u001b[1;31m---------------------------------------------------------------------------\u001b[0m",
      "\u001b[1;31mAttributeError\u001b[0m                            Traceback (most recent call last)",
      "Input \u001b[1;32mIn [134]\u001b[0m, in \u001b[0;36m<cell line: 1>\u001b[1;34m()\u001b[0m\n\u001b[1;32m----> 1\u001b[0m \u001b[43mdays\u001b[49m\u001b[38;5;241;43m.\u001b[39;49m\u001b[43mappend\u001b[49m(\u001b[38;5;124m'\u001b[39m\u001b[38;5;124mjanuary\u001b[39m\u001b[38;5;124m'\u001b[39m)\n",
      "\u001b[1;31mAttributeError\u001b[0m: 'tuple' object has no attribute 'append'"
     ]
    }
   ],
   "source": [
    "days.append('january')\n"
   ]
  },
  {
   "cell_type": "code",
   "execution_count": 139,
   "id": "343bf6f4",
   "metadata": {},
   "outputs": [],
   "source": [
    "Days1 = days + ('January',)"
   ]
  },
  {
   "cell_type": "code",
   "execution_count": 141,
   "id": "4f16d272",
   "metadata": {},
   "outputs": [
    {
     "name": "stdout",
     "output_type": "stream",
     "text": [
      "('sunday', 'monday', 'tuesday', ' wednesday', 'thursday', 'friday', 'saturday', 'sunday', 'monday', 34, True, 6.8, 'monday', 67, 'January')\n"
     ]
    }
   ],
   "source": [
    "print(Days1)"
   ]
  },
  {
   "cell_type": "code",
   "execution_count": 142,
   "id": "3c3f6454",
   "metadata": {},
   "outputs": [],
   "source": [
    "Days2 = Days1 + ('March', 'April',)"
   ]
  },
  {
   "cell_type": "code",
   "execution_count": 143,
   "id": "24dccaa8",
   "metadata": {},
   "outputs": [
    {
     "name": "stdout",
     "output_type": "stream",
     "text": [
      "('sunday', 'monday', 'tuesday', ' wednesday', 'thursday', 'friday', 'saturday', 'sunday', 'monday', 34, True, 6.8, 'monday', 67, 'January', 'March', 'April')\n"
     ]
    }
   ],
   "source": [
    "print(Days2)"
   ]
  },
  {
   "cell_type": "code",
   "execution_count": 144,
   "id": "35537ed2",
   "metadata": {},
   "outputs": [
    {
     "ename": "AttributeError",
     "evalue": "'tuple' object has no attribute 'pop'",
     "output_type": "error",
     "traceback": [
      "\u001b[1;31m---------------------------------------------------------------------------\u001b[0m",
      "\u001b[1;31mAttributeError\u001b[0m                            Traceback (most recent call last)",
      "Input \u001b[1;32mIn [144]\u001b[0m, in \u001b[0;36m<cell line: 1>\u001b[1;34m()\u001b[0m\n\u001b[1;32m----> 1\u001b[0m \u001b[43mDays2\u001b[49m\u001b[38;5;241;43m.\u001b[39;49m\u001b[43mpop\u001b[49m()\n",
      "\u001b[1;31mAttributeError\u001b[0m: 'tuple' object has no attribute 'pop'"
     ]
    }
   ],
   "source": [
    "Days2.pop()"
   ]
  },
  {
   "cell_type": "code",
   "execution_count": 145,
   "id": "1301518d",
   "metadata": {},
   "outputs": [
    {
     "data": {
      "text/plain": [
       "' wednesday'"
      ]
     },
     "execution_count": 145,
     "metadata": {},
     "output_type": "execute_result"
    }
   ],
   "source": [
    "Days2[3]"
   ]
  },
  {
   "cell_type": "code",
   "execution_count": 147,
   "id": "3df083b0",
   "metadata": {},
   "outputs": [
    {
     "data": {
      "text/plain": [
       "('sunday', 'monday', 'tuesday', ' wednesday', 'thursday', 'friday')"
      ]
     },
     "execution_count": 147,
     "metadata": {},
     "output_type": "execute_result"
    }
   ],
   "source": [
    "Days2[0:6]"
   ]
  },
  {
   "cell_type": "code",
   "execution_count": 149,
   "id": "27dc528f",
   "metadata": {},
   "outputs": [
    {
     "ename": "TypeError",
     "evalue": "'tuple' object doesn't support item deletion",
     "output_type": "error",
     "traceback": [
      "\u001b[1;31m---------------------------------------------------------------------------\u001b[0m",
      "\u001b[1;31mTypeError\u001b[0m                                 Traceback (most recent call last)",
      "Input \u001b[1;32mIn [149]\u001b[0m, in \u001b[0;36m<cell line: 1>\u001b[1;34m()\u001b[0m\n\u001b[1;32m----> 1\u001b[0m \u001b[38;5;28;01mdel\u001b[39;00m Days2[\u001b[38;5;241m3\u001b[39m]\n",
      "\u001b[1;31mTypeError\u001b[0m: 'tuple' object doesn't support item deletion"
     ]
    }
   ],
   "source": [
    "del Days2[3]"
   ]
  },
  {
   "cell_type": "code",
   "execution_count": 151,
   "id": "9576a1d2",
   "metadata": {},
   "outputs": [
    {
     "ename": "NameError",
     "evalue": "name 'length' is not defined",
     "output_type": "error",
     "traceback": [
      "\u001b[1;31m---------------------------------------------------------------------------\u001b[0m",
      "\u001b[1;31mNameError\u001b[0m                                 Traceback (most recent call last)",
      "Input \u001b[1;32mIn [151]\u001b[0m, in \u001b[0;36m<cell line: 1>\u001b[1;34m()\u001b[0m\n\u001b[1;32m----> 1\u001b[0m \u001b[43mlength\u001b[49m(Days2)\n",
      "\u001b[1;31mNameError\u001b[0m: name 'length' is not defined"
     ]
    }
   ],
   "source": [
    "length(Days2)"
   ]
  },
  {
   "cell_type": "code",
   "execution_count": 153,
   "id": "eb2b3a13",
   "metadata": {},
   "outputs": [
    {
     "ename": "AttributeError",
     "evalue": "'tuple' object has no attribute 'sort'",
     "output_type": "error",
     "traceback": [
      "\u001b[1;31m---------------------------------------------------------------------------\u001b[0m",
      "\u001b[1;31mAttributeError\u001b[0m                            Traceback (most recent call last)",
      "Input \u001b[1;32mIn [153]\u001b[0m, in \u001b[0;36m<cell line: 1>\u001b[1;34m()\u001b[0m\n\u001b[1;32m----> 1\u001b[0m \u001b[43mDays2\u001b[49m\u001b[38;5;241;43m.\u001b[39;49m\u001b[43msort\u001b[49m(reverse \u001b[38;5;241m=\u001b[39m \u001b[38;5;28;01mTrue\u001b[39;00m)\n",
      "\u001b[1;31mAttributeError\u001b[0m: 'tuple' object has no attribute 'sort'"
     ]
    }
   ],
   "source": [
    "Days2.sort(reverse = True)"
   ]
  },
  {
   "cell_type": "code",
   "execution_count": 154,
   "id": "b58cd509",
   "metadata": {},
   "outputs": [
    {
     "ename": "AttributeError",
     "evalue": "'tuple' object has no attribute 'remove'",
     "output_type": "error",
     "traceback": [
      "\u001b[1;31m---------------------------------------------------------------------------\u001b[0m",
      "\u001b[1;31mAttributeError\u001b[0m                            Traceback (most recent call last)",
      "Input \u001b[1;32mIn [154]\u001b[0m, in \u001b[0;36m<cell line: 1>\u001b[1;34m()\u001b[0m\n\u001b[1;32m----> 1\u001b[0m \u001b[43mDays2\u001b[49m\u001b[38;5;241;43m.\u001b[39;49m\u001b[43mremove\u001b[49m(\u001b[38;5;124m'\u001b[39m\u001b[38;5;124mjanuary\u001b[39m\u001b[38;5;124m'\u001b[39m)\n",
      "\u001b[1;31mAttributeError\u001b[0m: 'tuple' object has no attribute 'remove'"
     ]
    }
   ],
   "source": [
    "Days2.remove('january')"
   ]
  },
  {
   "cell_type": "code",
   "execution_count": null,
   "id": "0a4e5d7e",
   "metadata": {},
   "outputs": [],
   "source": []
  },
  {
   "cell_type": "code",
   "execution_count": null,
   "id": "033ede44",
   "metadata": {},
   "outputs": [],
   "source": []
  },
  {
   "cell_type": "markdown",
   "id": "83fbfcd4",
   "metadata": {},
   "source": [
    "## Data Structure SET"
   ]
  },
  {
   "cell_type": "code",
   "execution_count": 155,
   "id": "b3663629",
   "metadata": {},
   "outputs": [],
   "source": [
    "set = {'nikita', 'chandan', 'nikita', 'vishal', 'amarjeet', 'nikita', 'chandan', 'nitis', 'vishal', 100, 5.6, True, 100, 6.8, False}"
   ]
  },
  {
   "cell_type": "code",
   "execution_count": 156,
   "id": "c06861c9",
   "metadata": {},
   "outputs": [
    {
     "data": {
      "text/plain": [
       "set"
      ]
     },
     "execution_count": 156,
     "metadata": {},
     "output_type": "execute_result"
    }
   ],
   "source": [
    "type(set)"
   ]
  },
  {
   "cell_type": "code",
   "execution_count": 157,
   "id": "043e7c2f",
   "metadata": {},
   "outputs": [
    {
     "name": "stdout",
     "output_type": "stream",
     "text": [
      "{False, True, 100, 5.6, 6.8, 'amarjeet', 'chandan', 'nitis', 'vishal', 'nikita'}\n"
     ]
    }
   ],
   "source": [
    "print(set)"
   ]
  },
  {
   "cell_type": "code",
   "execution_count": null,
   "id": "fe9d675e",
   "metadata": {},
   "outputs": [],
   "source": []
  },
  {
   "cell_type": "markdown",
   "id": "005a6484",
   "metadata": {},
   "source": [
    "### Did you Observe ?\n",
    "\n",
    "##### Set are represented using curly { } brackets.\n",
    "\n",
    "##### Set are known for keeping unique element only.\n",
    "\n",
    "##### Set do not allow duplicates.\n",
    "\n",
    "##### Set is an Un-Ordered Data Structure."
   ]
  },
  {
   "cell_type": "code",
   "execution_count": 158,
   "id": "a814de41",
   "metadata": {},
   "outputs": [
    {
     "ename": "TypeError",
     "evalue": "'set' object is not subscriptable",
     "output_type": "error",
     "traceback": [
      "\u001b[1;31m---------------------------------------------------------------------------\u001b[0m",
      "\u001b[1;31mTypeError\u001b[0m                                 Traceback (most recent call last)",
      "Input \u001b[1;32mIn [158]\u001b[0m, in \u001b[0;36m<cell line: 1>\u001b[1;34m()\u001b[0m\n\u001b[1;32m----> 1\u001b[0m \u001b[38;5;28;43mset\u001b[39;49m\u001b[43m[\u001b[49m\u001b[38;5;241;43m5\u001b[39;49m\u001b[43m]\u001b[49m\n",
      "\u001b[1;31mTypeError\u001b[0m: 'set' object is not subscriptable"
     ]
    }
   ],
   "source": [
    "set[5]"
   ]
  },
  {
   "cell_type": "code",
   "execution_count": 159,
   "id": "4e163859",
   "metadata": {},
   "outputs": [
    {
     "ename": "TypeError",
     "evalue": "'set' object is not subscriptable",
     "output_type": "error",
     "traceback": [
      "\u001b[1;31m---------------------------------------------------------------------------\u001b[0m",
      "\u001b[1;31mTypeError\u001b[0m                                 Traceback (most recent call last)",
      "Input \u001b[1;32mIn [159]\u001b[0m, in \u001b[0;36m<cell line: 1>\u001b[1;34m()\u001b[0m\n\u001b[1;32m----> 1\u001b[0m \u001b[38;5;28;43mset\u001b[39;49m\u001b[43m[\u001b[49m\u001b[38;5;241;43m0\u001b[39;49m\u001b[43m:\u001b[49m\u001b[38;5;241;43m5\u001b[39;49m\u001b[43m]\u001b[49m\n",
      "\u001b[1;31mTypeError\u001b[0m: 'set' object is not subscriptable"
     ]
    }
   ],
   "source": [
    "set[0:5]"
   ]
  },
  {
   "cell_type": "code",
   "execution_count": 160,
   "id": "16b9edcc",
   "metadata": {},
   "outputs": [
    {
     "ename": "AttributeError",
     "evalue": "'set' object has no attribute 'append'",
     "output_type": "error",
     "traceback": [
      "\u001b[1;31m---------------------------------------------------------------------------\u001b[0m",
      "\u001b[1;31mAttributeError\u001b[0m                            Traceback (most recent call last)",
      "Input \u001b[1;32mIn [160]\u001b[0m, in \u001b[0;36m<cell line: 1>\u001b[1;34m()\u001b[0m\n\u001b[1;32m----> 1\u001b[0m \u001b[38;5;28;43mset\u001b[39;49m\u001b[38;5;241;43m.\u001b[39;49m\u001b[43mappend\u001b[49m(\u001b[38;5;124m'\u001b[39m\u001b[38;5;124msiddhartha\u001b[39m\u001b[38;5;124m'\u001b[39m)\n",
      "\u001b[1;31mAttributeError\u001b[0m: 'set' object has no attribute 'append'"
     ]
    }
   ],
   "source": [
    "set.append('siddhartha')"
   ]
  },
  {
   "cell_type": "code",
   "execution_count": 161,
   "id": "e8f19a80",
   "metadata": {},
   "outputs": [],
   "source": [
    "set.add('siddhartha')"
   ]
  },
  {
   "cell_type": "code",
   "execution_count": 162,
   "id": "e1132ba8",
   "metadata": {},
   "outputs": [
    {
     "data": {
      "text/plain": [
       "{100,\n",
       " 5.6,\n",
       " 6.8,\n",
       " False,\n",
       " True,\n",
       " 'amarjeet',\n",
       " 'chandan',\n",
       " 'nikita',\n",
       " 'nitis',\n",
       " 'siddhartha',\n",
       " 'vishal'}"
      ]
     },
     "execution_count": 162,
     "metadata": {},
     "output_type": "execute_result"
    }
   ],
   "source": [
    "set"
   ]
  },
  {
   "cell_type": "code",
   "execution_count": 163,
   "id": "f8305846",
   "metadata": {},
   "outputs": [],
   "source": [
    "set.add('modi')"
   ]
  },
  {
   "cell_type": "code",
   "execution_count": 164,
   "id": "9852a93a",
   "metadata": {},
   "outputs": [
    {
     "data": {
      "text/plain": [
       "{100,\n",
       " 5.6,\n",
       " 6.8,\n",
       " False,\n",
       " True,\n",
       " 'amarjeet',\n",
       " 'chandan',\n",
       " 'modi',\n",
       " 'nikita',\n",
       " 'nitis',\n",
       " 'siddhartha',\n",
       " 'vishal'}"
      ]
     },
     "execution_count": 164,
     "metadata": {},
     "output_type": "execute_result"
    }
   ],
   "source": [
    "set"
   ]
  },
  {
   "cell_type": "code",
   "execution_count": 165,
   "id": "5af24107",
   "metadata": {},
   "outputs": [
    {
     "ename": "AttributeError",
     "evalue": "'set' object has no attribute 'sort'",
     "output_type": "error",
     "traceback": [
      "\u001b[1;31m---------------------------------------------------------------------------\u001b[0m",
      "\u001b[1;31mAttributeError\u001b[0m                            Traceback (most recent call last)",
      "Input \u001b[1;32mIn [165]\u001b[0m, in \u001b[0;36m<cell line: 1>\u001b[1;34m()\u001b[0m\n\u001b[1;32m----> 1\u001b[0m \u001b[38;5;28;43mset\u001b[39;49m\u001b[38;5;241;43m.\u001b[39;49m\u001b[43msort\u001b[49m()\n",
      "\u001b[1;31mAttributeError\u001b[0m: 'set' object has no attribute 'sort'"
     ]
    }
   ],
   "source": [
    "set.sort()"
   ]
  },
  {
   "cell_type": "code",
   "execution_count": 166,
   "id": "50171fb7",
   "metadata": {},
   "outputs": [
    {
     "ename": "AttributeError",
     "evalue": "'set' object has no attribute 'sort'",
     "output_type": "error",
     "traceback": [
      "\u001b[1;31m---------------------------------------------------------------------------\u001b[0m",
      "\u001b[1;31mAttributeError\u001b[0m                            Traceback (most recent call last)",
      "Input \u001b[1;32mIn [166]\u001b[0m, in \u001b[0;36m<cell line: 1>\u001b[1;34m()\u001b[0m\n\u001b[1;32m----> 1\u001b[0m \u001b[38;5;28;43mset\u001b[39;49m\u001b[38;5;241;43m.\u001b[39;49m\u001b[43msort\u001b[49m(reverse\u001b[38;5;241m=\u001b[39m\u001b[38;5;28;01mTrue\u001b[39;00m)\n",
      "\u001b[1;31mAttributeError\u001b[0m: 'set' object has no attribute 'sort'"
     ]
    }
   ],
   "source": [
    "set.sort(reverse=True)"
   ]
  },
  {
   "cell_type": "code",
   "execution_count": 167,
   "id": "12088ce9",
   "metadata": {},
   "outputs": [],
   "source": [
    "set.remove('modi')"
   ]
  },
  {
   "cell_type": "code",
   "execution_count": 168,
   "id": "ba5e5b1a",
   "metadata": {},
   "outputs": [
    {
     "data": {
      "text/plain": [
       "{100,\n",
       " 5.6,\n",
       " 6.8,\n",
       " False,\n",
       " True,\n",
       " 'amarjeet',\n",
       " 'chandan',\n",
       " 'nikita',\n",
       " 'nitis',\n",
       " 'siddhartha',\n",
       " 'vishal'}"
      ]
     },
     "execution_count": 168,
     "metadata": {},
     "output_type": "execute_result"
    }
   ],
   "source": [
    "set"
   ]
  },
  {
   "cell_type": "code",
   "execution_count": 169,
   "id": "2e92dd85",
   "metadata": {},
   "outputs": [
    {
     "ename": "TypeError",
     "evalue": "'set' object doesn't support item deletion",
     "output_type": "error",
     "traceback": [
      "\u001b[1;31m---------------------------------------------------------------------------\u001b[0m",
      "\u001b[1;31mTypeError\u001b[0m                                 Traceback (most recent call last)",
      "Input \u001b[1;32mIn [169]\u001b[0m, in \u001b[0;36m<cell line: 1>\u001b[1;34m()\u001b[0m\n\u001b[1;32m----> 1\u001b[0m \u001b[38;5;28;01mdel\u001b[39;00m \u001b[38;5;28mset\u001b[39m[\u001b[38;5;241m5\u001b[39m]\n",
      "\u001b[1;31mTypeError\u001b[0m: 'set' object doesn't support item deletion"
     ]
    }
   ],
   "source": [
    "del set[5]"
   ]
  },
  {
   "cell_type": "code",
   "execution_count": 170,
   "id": "b33edf58",
   "metadata": {},
   "outputs": [
    {
     "data": {
      "text/plain": [
       "False"
      ]
     },
     "execution_count": 170,
     "metadata": {},
     "output_type": "execute_result"
    }
   ],
   "source": [
    "set.pop()"
   ]
  },
  {
   "cell_type": "code",
   "execution_count": 171,
   "id": "47b3800d",
   "metadata": {},
   "outputs": [
    {
     "name": "stdout",
     "output_type": "stream",
     "text": [
      "{True, 100, 5.6, 6.8, 'amarjeet', 'siddhartha', 'chandan', 'nitis', 'vishal', 'nikita'}\n"
     ]
    }
   ],
   "source": [
    "print(set)"
   ]
  },
  {
   "cell_type": "code",
   "execution_count": 172,
   "id": "5d38c90b",
   "metadata": {},
   "outputs": [
    {
     "data": {
      "text/plain": [
       "True"
      ]
     },
     "execution_count": 172,
     "metadata": {},
     "output_type": "execute_result"
    }
   ],
   "source": [
    "set.pop()"
   ]
  },
  {
   "cell_type": "code",
   "execution_count": 173,
   "id": "9f09496a",
   "metadata": {},
   "outputs": [
    {
     "name": "stdout",
     "output_type": "stream",
     "text": [
      "{100, 5.6, 6.8, 'amarjeet', 'siddhartha', 'chandan', 'nitis', 'vishal', 'nikita'}\n"
     ]
    }
   ],
   "source": [
    "print(set)"
   ]
  },
  {
   "cell_type": "code",
   "execution_count": 174,
   "id": "6efc0a8e",
   "metadata": {},
   "outputs": [],
   "source": [
    "new_set = {'nikita', 'chandan', 'nikita', 'vishal', 'amarjeet', 'nikita', 'chandan', 'nitis', 'vishal'}"
   ]
  },
  {
   "cell_type": "code",
   "execution_count": 175,
   "id": "95b396ba",
   "metadata": {},
   "outputs": [
    {
     "data": {
      "text/plain": [
       "'vishal'"
      ]
     },
     "execution_count": 175,
     "metadata": {},
     "output_type": "execute_result"
    }
   ],
   "source": [
    "new_set.pop()"
   ]
  },
  {
   "cell_type": "code",
   "execution_count": 176,
   "id": "3bef82e6",
   "metadata": {},
   "outputs": [
    {
     "ename": "TypeError",
     "evalue": "set.pop() takes no arguments (1 given)",
     "output_type": "error",
     "traceback": [
      "\u001b[1;31m---------------------------------------------------------------------------\u001b[0m",
      "\u001b[1;31mTypeError\u001b[0m                                 Traceback (most recent call last)",
      "Input \u001b[1;32mIn [176]\u001b[0m, in \u001b[0;36m<cell line: 1>\u001b[1;34m()\u001b[0m\n\u001b[1;32m----> 1\u001b[0m \u001b[43mnew_set\u001b[49m\u001b[38;5;241;43m.\u001b[39;49m\u001b[43mpop\u001b[49m\u001b[43m(\u001b[49m\u001b[38;5;241;43m-\u001b[39;49m\u001b[38;5;241;43m3\u001b[39;49m\u001b[43m)\u001b[49m\n",
      "\u001b[1;31mTypeError\u001b[0m: set.pop() takes no arguments (1 given)"
     ]
    }
   ],
   "source": [
    "new_set.pop(-3)"
   ]
  },
  {
   "cell_type": "code",
   "execution_count": null,
   "id": "5947a17a",
   "metadata": {},
   "outputs": [],
   "source": [
    "p_set = lucknow','mumbai','punjab','rajesthan','delhi','bangelore','hyderabad','chennai','gujrat','kolkata','pune','kochi','deccan'"
   ]
  },
  {
   "cell_type": "markdown",
   "id": "df67ac3d",
   "metadata": {},
   "source": [
    "## Kindly perform the below activities for list, Tuple & Set.\n",
    "\n",
    "##### print type of the data,\n",
    "\n",
    "##### Try to add a new element.\n",
    "\n",
    "##### Try to delete an element using remove, del, pop.\n",
    "\n",
    "##### Try indexing.\n",
    "\n",
    "##### Try slicing.\n",
    "\n",
    "##### Try Sorting."
   ]
  },
  {
   "cell_type": "code",
   "execution_count": null,
   "id": "1df971e7",
   "metadata": {},
   "outputs": [],
   "source": []
  },
  {
   "cell_type": "code",
   "execution_count": null,
   "id": "5f8eed7e",
   "metadata": {},
   "outputs": [],
   "source": []
  },
  {
   "cell_type": "code",
   "execution_count": null,
   "id": "494fa3f2",
   "metadata": {},
   "outputs": [],
   "source": []
  },
  {
   "cell_type": "markdown",
   "id": "21399912",
   "metadata": {},
   "source": [
    "## Dictionaries"
   ]
  },
  {
   "cell_type": "markdown",
   "id": "66e781fb",
   "metadata": {},
   "source": [
    "### In python we use dictionaries to store key - value pair\n",
    "\n",
    "#### Let's take an example.\n",
    "\n",
    "##### How a customers can have multiple attributes such as.\n",
    "\n",
    "##### Name\n",
    "##### Email\n",
    "##### User Id\n",
    "##### Address\n",
    "##### Phone Number"
   ]
  },
  {
   "cell_type": "markdown",
   "id": "e3302c1e",
   "metadata": {},
   "source": [
    "## How each of these attributes can be the key and correspondance to these we will have our Values.\n"
   ]
  },
  {
   "cell_type": "markdown",
   "id": "64e43968",
   "metadata": {},
   "source": [
    "##### A dictionary stores elements as key - value pairs.\n",
    "\n",
    "##### A key is like an index, it is always unique and immutable.\n",
    "\n",
    "##### Values are objects which contains informations.\n",
    "\n",
    "##### Values are accessed using their keys.\n",
    "\n",
    "##### Each key is followed by a values seperated by a colon.\n",
    "\n",
    "##### Values can be mutable, immutable and duplicates.\n",
    "\n",
    "##### Each key - value pair will be seperated with comma withing curly brackets.\n",
    "\n",
    "##### Discionaries are written in curly { } brackets.\n",
    "\n",
    "### Syntax:- Student_Details = { key1:value1, key2:value2, key3:value3,   ....... }"
   ]
  },
  {
   "cell_type": "code",
   "execution_count": 16,
   "id": "ecfc24a7",
   "metadata": {},
   "outputs": [],
   "source": [
    "student_information = {'Reg Id' : '00001', 'Name' : 'Nikita', 'Age' : '22', 'Email' : 'nikitasingh@gmail.com', 'Contact' : '9876543210', 'Address' : 'Bihar', 'pincode': '560076'}\n",
    "                       "
   ]
  },
  {
   "cell_type": "code",
   "execution_count": 17,
   "id": "ab5f85a5",
   "metadata": {},
   "outputs": [
    {
     "data": {
      "text/plain": [
       "dict"
      ]
     },
     "execution_count": 17,
     "metadata": {},
     "output_type": "execute_result"
    }
   ],
   "source": [
    "type(student_information)"
   ]
  },
  {
   "cell_type": "code",
   "execution_count": 18,
   "id": "6e647bbe",
   "metadata": {},
   "outputs": [
    {
     "data": {
      "text/plain": [
       "{'Reg Id': '00001',\n",
       " 'Name': 'Nikita',\n",
       " 'Age': '22',\n",
       " 'Email': 'nikitasingh@gmail.com',\n",
       " 'Contact': '9876543210',\n",
       " 'Address': 'Bihar',\n",
       " 'pincode': '560076'}"
      ]
     },
     "execution_count": 18,
     "metadata": {},
     "output_type": "execute_result"
    }
   ],
   "source": [
    "student_information"
   ]
  },
  {
   "cell_type": "code",
   "execution_count": 20,
   "id": "2181f584",
   "metadata": {},
   "outputs": [],
   "source": [
    "student_information['Age'] = '25'"
   ]
  },
  {
   "cell_type": "code",
   "execution_count": 21,
   "id": "f13ed95b",
   "metadata": {},
   "outputs": [
    {
     "data": {
      "text/plain": [
       "{'Reg Id': '00001',\n",
       " 'Name': 'Nikita',\n",
       " 'Age': '25',\n",
       " 'Email': 'nikitasingh@gmail.com',\n",
       " 'Contact': '9876543210',\n",
       " 'Address': 'Bihar',\n",
       " 'pincode': '560076'}"
      ]
     },
     "execution_count": 21,
     "metadata": {},
     "output_type": "execute_result"
    }
   ],
   "source": [
    "student_information"
   ]
  },
  {
   "cell_type": "code",
   "execution_count": 23,
   "id": "a9c00120",
   "metadata": {},
   "outputs": [],
   "source": [
    "student_information['Grades'] = '75'"
   ]
  },
  {
   "cell_type": "code",
   "execution_count": 24,
   "id": "5d570fdf",
   "metadata": {},
   "outputs": [
    {
     "data": {
      "text/plain": [
       "{'Reg Id': '00001',\n",
       " 'Name': 'Nikita',\n",
       " 'Age': '25',\n",
       " 'Email': 'nikitasingh@gmail.com',\n",
       " 'Contact': '9876543210',\n",
       " 'Address': 'Bihar',\n",
       " 'pincode': '560076',\n",
       " 'Grades': '75'}"
      ]
     },
     "execution_count": 24,
     "metadata": {},
     "output_type": "execute_result"
    }
   ],
   "source": [
    "student_information"
   ]
  },
  {
   "cell_type": "code",
   "execution_count": 25,
   "id": "ff1d702b",
   "metadata": {},
   "outputs": [
    {
     "ename": "AttributeError",
     "evalue": "'dict' object has no attribute 'sort'",
     "output_type": "error",
     "traceback": [
      "\u001b[1;31m---------------------------------------------------------------------------\u001b[0m",
      "\u001b[1;31mAttributeError\u001b[0m                            Traceback (most recent call last)",
      "Input \u001b[1;32mIn [25]\u001b[0m, in \u001b[0;36m<cell line: 1>\u001b[1;34m()\u001b[0m\n\u001b[1;32m----> 1\u001b[0m \u001b[43mstudent_information\u001b[49m\u001b[38;5;241;43m.\u001b[39;49m\u001b[43msort\u001b[49m()\n",
      "\u001b[1;31mAttributeError\u001b[0m: 'dict' object has no attribute 'sort'"
     ]
    }
   ],
   "source": [
    "student_information.sort()   # Hence sorting is not possible."
   ]
  },
  {
   "cell_type": "code",
   "execution_count": 26,
   "id": "c962c314",
   "metadata": {},
   "outputs": [
    {
     "ename": "KeyError",
     "evalue": "-1",
     "output_type": "error",
     "traceback": [
      "\u001b[1;31m---------------------------------------------------------------------------\u001b[0m",
      "\u001b[1;31mKeyError\u001b[0m                                  Traceback (most recent call last)",
      "Input \u001b[1;32mIn [26]\u001b[0m, in \u001b[0;36m<cell line: 1>\u001b[1;34m()\u001b[0m\n\u001b[1;32m----> 1\u001b[0m \u001b[43mstudent_information\u001b[49m\u001b[43m[\u001b[49m\u001b[38;5;241;43m-\u001b[39;49m\u001b[38;5;241;43m1\u001b[39;49m\u001b[43m]\u001b[49m\n",
      "\u001b[1;31mKeyError\u001b[0m: -1"
     ]
    }
   ],
   "source": [
    "student_information[-1]  # hence Indexing is also not possible."
   ]
  },
  {
   "cell_type": "code",
   "execution_count": 28,
   "id": "65c77a5b",
   "metadata": {},
   "outputs": [],
   "source": [
    "del student_information['Grades'] # With the help of del and by Key name we can delete the elements form Dictionaries."
   ]
  },
  {
   "cell_type": "code",
   "execution_count": 29,
   "id": "ea3b1686",
   "metadata": {},
   "outputs": [
    {
     "data": {
      "text/plain": [
       "{'Reg Id': '00001',\n",
       " 'Name': 'Nikita',\n",
       " 'Age': '25',\n",
       " 'Email': 'nikitasingh@gmail.com',\n",
       " 'Contact': '9876543210',\n",
       " 'Address': 'Bihar',\n",
       " 'pincode': '560076'}"
      ]
     },
     "execution_count": 29,
     "metadata": {},
     "output_type": "execute_result"
    }
   ],
   "source": [
    "student_information"
   ]
  },
  {
   "cell_type": "code",
   "execution_count": 30,
   "id": "0c8c455a",
   "metadata": {},
   "outputs": [
    {
     "ename": "KeyError",
     "evalue": "'25'",
     "output_type": "error",
     "traceback": [
      "\u001b[1;31m---------------------------------------------------------------------------\u001b[0m",
      "\u001b[1;31mKeyError\u001b[0m                                  Traceback (most recent call last)",
      "Input \u001b[1;32mIn [30]\u001b[0m, in \u001b[0;36m<cell line: 1>\u001b[1;34m()\u001b[0m\n\u001b[1;32m----> 1\u001b[0m \u001b[38;5;28;01mdel\u001b[39;00m student_information[\u001b[38;5;124m'\u001b[39m\u001b[38;5;124m25\u001b[39m\u001b[38;5;124m'\u001b[39m]\n",
      "\u001b[1;31mKeyError\u001b[0m: '25'"
     ]
    }
   ],
   "source": [
    "del student_information['25']   # Hence With the help of del and by Values name we cannot delete the elements form Dictionaries."
   ]
  },
  {
   "cell_type": "code",
   "execution_count": 31,
   "id": "20713eb4",
   "metadata": {},
   "outputs": [
    {
     "ename": "AttributeError",
     "evalue": "'dict' object has no attribute 'remove'",
     "output_type": "error",
     "traceback": [
      "\u001b[1;31m---------------------------------------------------------------------------\u001b[0m",
      "\u001b[1;31mAttributeError\u001b[0m                            Traceback (most recent call last)",
      "Input \u001b[1;32mIn [31]\u001b[0m, in \u001b[0;36m<cell line: 1>\u001b[1;34m()\u001b[0m\n\u001b[1;32m----> 1\u001b[0m \u001b[43mstudent_information\u001b[49m\u001b[38;5;241;43m.\u001b[39;49m\u001b[43mremove\u001b[49m(\u001b[38;5;124m'\u001b[39m\u001b[38;5;124mAge\u001b[39m\u001b[38;5;124m'\u001b[39m)\n",
      "\u001b[1;31mAttributeError\u001b[0m: 'dict' object has no attribute 'remove'"
     ]
    }
   ],
   "source": [
    "student_information.remove('Age')  # We cannot use remove functioned for Dictionaries"
   ]
  },
  {
   "cell_type": "code",
   "execution_count": 32,
   "id": "0bf86504",
   "metadata": {},
   "outputs": [
    {
     "ename": "TypeError",
     "evalue": "pop expected at least 1 argument, got 0",
     "output_type": "error",
     "traceback": [
      "\u001b[1;31m---------------------------------------------------------------------------\u001b[0m",
      "\u001b[1;31mTypeError\u001b[0m                                 Traceback (most recent call last)",
      "Input \u001b[1;32mIn [32]\u001b[0m, in \u001b[0;36m<cell line: 1>\u001b[1;34m()\u001b[0m\n\u001b[1;32m----> 1\u001b[0m \u001b[43mstudent_information\u001b[49m\u001b[38;5;241;43m.\u001b[39;49m\u001b[43mpop\u001b[49m\u001b[43m(\u001b[49m\u001b[43m)\u001b[49m\n",
      "\u001b[1;31mTypeError\u001b[0m: pop expected at least 1 argument, got 0"
     ]
    }
   ],
   "source": [
    "student_information.pop()     # We cannot use remove functioned for Dictionaries"
   ]
  },
  {
   "cell_type": "code",
   "execution_count": null,
   "id": "668cb9d3",
   "metadata": {},
   "outputs": [],
   "source": [
    "# Amarjeet\n",
    "{{Acc Nu:\n",
    "Name: \n",
    "Number:\n",
    "Age:\n",
    "Address:\n",
    "Pincode:\n",
    "Aadhar Nu:\n",
    "PanCard:}\n",
    "\n",
    ",   \n",
    "# Nikita    \n",
    "{Acc Nu:\n",
    "Name: \n",
    "Number:\n",
    "Age:\n",
    "Address:\n",
    "Pincode:\n",
    "Aadhar Nu:\n",
    "PanCard:}\n",
    "    \n",
    ",    \n",
    "# Vishal    \n",
    "{Acc Nu:\n",
    "Name: \n",
    "Number:\n",
    "Age:\n",
    "Address:\n",
    "Pincode:\n",
    "Aadhar Nu:\n",
    "PanCard:}\n",
    " \n",
    ",\n",
    "# Nitis    \n",
    "{Acc Nu:\n",
    "Name: \n",
    "Number:\n",
    "Age:\n",
    "Address:\n",
    "Pincode:\n",
    "Aadhar Nu:\n",
    "PanCard:}}"
   ]
  },
  {
   "cell_type": "code",
   "execution_count": 34,
   "id": "ad9f3e12",
   "metadata": {},
   "outputs": [
    {
     "ename": "SyntaxError",
     "evalue": "invalid syntax (2722309151.py, line 1)",
     "output_type": "error",
     "traceback": [
      "\u001b[1;36m  Input \u001b[1;32mIn [34]\u001b[1;36m\u001b[0m\n\u001b[1;33m    Acc Nu:\u001b[0m\n\u001b[1;37m        ^\u001b[0m\n\u001b[1;31mSyntaxError\u001b[0m\u001b[1;31m:\u001b[0m invalid syntax\n"
     ]
    }
   ],
   "source": [
    "Acc Nu:\n",
    "Name: \n",
    "Number:\n",
    "Age:\n",
    "Address:\n",
    "Pincode:\n",
    "Aadhar Nu:\n",
    "PanCard:\n",
    "    \n",
    "# for this data create a dictionary by name of Student_Data\n",
    "\n",
    "# print type\n",
    "\n",
    "# Add ney element in Key : Value Pair\n",
    "\n",
    "# Sort\n",
    "\n",
    "# Do Indexing\n",
    "\n",
    "# Remove, Del & Pop\n",
    "\n",
    "# Slicing\n",
    "\n",
    "# Change Vlaue details\n"
   ]
  },
  {
   "cell_type": "code",
   "execution_count": null,
   "id": "568c99cd",
   "metadata": {},
   "outputs": [],
   "source": []
  },
  {
   "cell_type": "code",
   "execution_count": null,
   "id": "6ff576e3",
   "metadata": {},
   "outputs": [],
   "source": []
  }
 ],
 "metadata": {
  "kernelspec": {
   "display_name": "Python 3 (ipykernel)",
   "language": "python",
   "name": "python3"
  },
  "language_info": {
   "codemirror_mode": {
    "name": "ipython",
    "version": 3
   },
   "file_extension": ".py",
   "mimetype": "text/x-python",
   "name": "python",
   "nbconvert_exporter": "python",
   "pygments_lexer": "ipython3",
   "version": "3.11.7"
  }
 },
 "nbformat": 4,
 "nbformat_minor": 5
}
