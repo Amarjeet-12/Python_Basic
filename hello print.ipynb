{
 "cells": [
  {
   "cell_type": "code",
   "execution_count": 15,
   "id": "bbdbef74",
   "metadata": {},
   "outputs": [
    {
     "name": "stdout",
     "output_type": "stream",
     "text": [
      "Hello World!\n"
     ]
    }
   ],
   "source": [
    "print(\"Hello World!\")"
   ]
  },
  {
   "cell_type": "code",
   "execution_count": 16,
   "id": "d72cc267",
   "metadata": {},
   "outputs": [
    {
     "name": "stdout",
     "output_type": "stream",
     "text": [
      "Five is greater than two\n"
     ]
    }
   ],
   "source": [
    "if 5>2:\n",
    "    print(\"Five is greater than two\")"
   ]
  },
  {
   "cell_type": "markdown",
   "id": "69745b54",
   "metadata": {},
   "source": [
    "### Introduction to Python\n",
    "##### Let's have a look at Python as a language and what features does it bring to be among the top 3 coding languages in the world."
   ]
  },
  {
   "cell_type": "code",
   "execution_count": 17,
   "id": "55607d96",
   "metadata": {},
   "outputs": [
    {
     "name": "stdout",
     "output_type": "stream",
     "text": [
      "Welcome to Tech Yard!\n"
     ]
    }
   ],
   "source": [
    "# 1. Unlike other languages Python program works on an Interpreter so to run a code all you have to do is type it out\n",
    "\n",
    "print(\"Welcome to Tech Yard!\")"
   ]
  },
  {
   "cell_type": "code",
   "execution_count": 19,
   "id": "42aa8855",
   "metadata": {},
   "outputs": [
    {
     "name": "stdout",
     "output_type": "stream",
     "text": [
      "|||||||\n",
      "OOOOOOO\n"
     ]
    }
   ],
   "source": [
    "#Imaginary giraffe\n",
    "print(\"|||||||\")\n",
    "print(\"OOOOOOO\")"
   ]
  },
  {
   "cell_type": "code",
   "execution_count": 47,
   "id": "bdff07e8",
   "metadata": {},
   "outputs": [
    {
     "name": "stdout",
     "output_type": "stream",
     "text": [
      "10 10 10 10 10 10 10 10 10 10 \n"
     ]
    }
   ],
   "source": [
    "#Let's add another print statement \n",
    "\n",
    "print(\"10 \" * 10) "
   ]
  },
  {
   "cell_type": "markdown",
   "id": "8b74897f",
   "metadata": {},
   "source": [
    "### Now let's see what happened here -\n",
    "##### Any character whether it be numeric or text enclosed within \" \" or ' ' gets considered as a string;\n",
    "#### A string is a data type which contains a series of characters\n",
    "##### Just like string, there are numerous types of variables in Python; let's have a look\n",
    "# Variables\n",
    "#### Python variables are a container that can store any type of value and of any particular size. Unlike other languages such as C, Java - Variables in Python don't need initialization. Let's create a variable to see how do they work"
   ]
  },
  {
   "cell_type": "code",
   "execution_count": 36,
   "id": "78d7e885",
   "metadata": {},
   "outputs": [
    {
     "name": "stdout",
     "output_type": "stream",
     "text": [
      "My Name is Siddhartha\n",
      "I am good with Python\n"
     ]
    }
   ],
   "source": [
    "var1 = \"My Name is Siddhartha\"\n",
    "var2 = \"I am good with Python\"\n",
    "\n",
    "print(var1)\n",
    "print(var2)"
   ]
  },
  {
   "cell_type": "code",
   "execution_count": 39,
   "id": "1c7520a3",
   "metadata": {},
   "outputs": [
    {
     "name": "stdout",
     "output_type": "stream",
     "text": [
      "6\n",
      "9\n",
      "15\n",
      "54\n"
     ]
    }
   ],
   "source": [
    "var3 = 6\n",
    "var4 = 9\n",
    "print(var3)\n",
    "print(var4)\n",
    "print(var3 + var4)\n",
    "print(var3 * var4)"
   ]
  },
  {
   "cell_type": "markdown",
   "id": "97fed5f9",
   "metadata": {},
   "source": [
    "##### Now that we know how to store a variable in Python let's try getting input from a user and storing it in Python"
   ]
  },
  {
   "cell_type": "code",
   "execution_count": 44,
   "id": "6da8393f",
   "metadata": {},
   "outputs": [
    {
     "name": "stdout",
     "output_type": "stream",
     "text": [
      "What is you name ? Siddhartha\n",
      "Whats your mobile number ? 9791004602\n",
      "My name is : Siddhartha\n",
      "My mobile number is :  9791004602\n"
     ]
    }
   ],
   "source": [
    "var5 = input(\"What is you name ? \")\n",
    "var6 = input(\"Whats your mobile number ? \")\n",
    "print(\"My name is :\", var5)\n",
    "print(\"My mobile number is : \", var6)"
   ]
  },
  {
   "cell_type": "code",
   "execution_count": 49,
   "id": "964a6dcf",
   "metadata": {},
   "outputs": [
    {
     "name": "stdout",
     "output_type": "stream",
     "text": [
      "Whats your age ? 28\n",
      "I have lived for :  336 months\n"
     ]
    }
   ],
   "source": [
    "# Tell me how many month I have lived if my age is 28?\n",
    "\n",
    "var7 = input(\"Whats your age ? \")\n",
    "var8 = int(var7)\n",
    "print(\"I have lived for : \", var8*12 ,\"months\")"
   ]
  },
  {
   "cell_type": "code",
   "execution_count": 51,
   "id": "03d96890",
   "metadata": {},
   "outputs": [
    {
     "name": "stdout",
     "output_type": "stream",
     "text": [
      "Yes\n"
     ]
    }
   ],
   "source": [
    "if 5 > 2:\n",
    "    print (\"Yes\")"
   ]
  },
  {
   "cell_type": "markdown",
   "id": "9b379cc8",
   "metadata": {},
   "source": [
    "#### How to find the Data Type for a variables in Python\n",
    "#### Here in the below piece of code you can see that we have assigned each variable with a particular value and use the type method we can check the datatype of the variable"
   ]
  },
  {
   "cell_type": "markdown",
   "id": "0fc6517b",
   "metadata": {},
   "source": [
    "## Python Data Types\n",
    "\n",
    "     ## Built-in Data Types\n",
    "    \n",
    "     # In programming, data type is an important concept.\n",
    "\n",
    "     # Variables can store data of different types, and different types can do different things.\n",
    "\n",
    "     # Python has the following data types built-in by default, in these categories:\n",
    "        \n",
    "      #  Text Type:\tstr\n",
    "      #  Numeric Types:\tint, float, complex\n",
    "      #  Sequence Types:\tlist, tuple, range\n",
    "      #  Mapping Type:\tdict\n",
    "      #  Set Types:\tset, frozenset\n",
    "      #  Boolean Type:\tbool\n",
    "      #  Binary Types:\tbytes, bytearray, memoryview\n",
    "      #  None Type:\tNoneType"
   ]
  },
  {
   "cell_type": "code",
   "execution_count": 86,
   "id": "377c7c6f",
   "metadata": {},
   "outputs": [
    {
     "name": "stdout",
     "output_type": "stream",
     "text": [
      "<class 'int'>\n",
      "<class 'str'>\n",
      "<class 'float'>\n",
      "<class 'complex'>\n",
      "<class 'list'>\n",
      "<class 'tuple'>\n",
      "<class 'range'>\n",
      "<class 'dict'>\n",
      "<class 'set'>\n",
      "<class 'frozenset'>\n",
      "<class 'bool'>\n",
      "<class 'bytes'>\n",
      "<class 'bytearray'>\n",
      "<class 'memoryview'>\n",
      "<class 'NoneType'>\n"
     ]
    }
   ],
   "source": [
    "### Getting the Data Type\n",
    "\n",
    "# You can get the data type of any object by using the type() function:\n",
    "\n",
    "x = 5\n",
    "\n",
    "print(type(x));\n",
    "\n",
    "x = \"5\"\n",
    "\n",
    "print(type(x));\n",
    "\n",
    "x = 5.222\n",
    "\n",
    "print(type(x));\n",
    "\n",
    "x = 1j\n",
    "\n",
    "print(type(x));\n",
    "\n",
    "x = [\"apple\", \"banana\", \"cherry\"]\n",
    "\n",
    "print(type(x));\n",
    "\n",
    "x = (\"apple\", \"banana\", \"cherry\")\n",
    "\n",
    "print(type(x));\n",
    "\n",
    "x = range(6)\n",
    "print(type(x));\n",
    "\n",
    "x = {\"name\" : \"John\", \"age\" : 36}\n",
    "print(type(x));\n",
    "\n",
    "x = {\"apple\", \"banana\", \"cherry\"}\n",
    "print(type(x));\n",
    "\n",
    "x = frozenset({\"apple\", \"banana\", \"cherry\"})\n",
    "print(type(x));\n",
    "\n",
    "x = True\n",
    "print(type(x));\n",
    "\n",
    "x = b\"Hello\"\n",
    "print(type(x));\n",
    "\n",
    "x = bytearray(5)\n",
    "print(type(x));\n",
    "\n",
    "x = memoryview(bytes(5))\n",
    "print(type(x));\n",
    "\n",
    "x = None\n",
    "print(type(x));"
   ]
  },
  {
   "cell_type": "code",
   "execution_count": 82,
   "id": "3dc640fc",
   "metadata": {},
   "outputs": [
    {
     "name": "stdout",
     "output_type": "stream",
     "text": [
      "<class 'int'>\n",
      "<class 'float'>\n",
      "<class 'str'>\n",
      "<class 'bool'>\n",
      "<class 'complex'>\n",
      "10j\n",
      "<class 'complex'>\n"
     ]
    }
   ],
   "source": [
    "var1 = 5\n",
    "var2 = 1.3\n",
    "var3 = 'Mike'\n",
    "var4 = True\n",
    "var5 = 2j\n",
    "print(type(var1))\n",
    "print(type(var2))\n",
    "print(type(var3))\n",
    "print(type(var4))\n",
    "print(type(var5))\n",
    "\n",
    "print(var1 * var5)    #   2 * 3x = 6x\n",
    "print(type(var1 * var5))"
   ]
  },
  {
   "cell_type": "markdown",
   "id": "d89cb2b5",
   "metadata": {},
   "source": [
    "## Type Casting in Python"
   ]
  },
  {
   "cell_type": "code",
   "execution_count": 94,
   "id": "f1158c39",
   "metadata": {},
   "outputs": [
    {
     "name": "stdout",
     "output_type": "stream",
     "text": [
      "11\n",
      "<class 'int'>\n",
      "True\n",
      "11\n",
      "11.0\n",
      "(11+0j)\n"
     ]
    }
   ],
   "source": [
    "# Now let us try taking an \n",
    "a = 11\n",
    "print(a)\n",
    "print(type(a))\n",
    "print(bool(a))\n",
    "print(str(a))\n",
    "print(float(a))\n",
    "print(complex(a))"
   ]
  },
  {
   "cell_type": "markdown",
   "id": "7b38e880",
   "metadata": {},
   "source": [
    "### Arithmatic Operations"
   ]
  },
  {
   "cell_type": "code",
   "execution_count": 107,
   "id": "bad58f4e",
   "metadata": {},
   "outputs": [
    {
     "name": "stdout",
     "output_type": "stream",
     "text": [
      "14\n",
      "8\n",
      "33\n",
      "3.6666666666666665\n",
      "3\n",
      "2\n",
      "1331\n"
     ]
    }
   ],
   "source": [
    "a = 11\n",
    "b = 3\n",
    "print(a + b) # addition\n",
    "print(a - b) # substraction\n",
    "print(a * b) # multiplication\n",
    "print(a / b) # Division\n",
    "print(a // b) # floor Division    \n",
    "print(a % b)  # Modolus or remainder\n",
    "print(a ** b) # Exponential "
   ]
  },
  {
   "cell_type": "markdown",
   "id": "f4cafc63",
   "metadata": {},
   "source": [
    "### Now if you recall that the mathematical operators follow a precedence rule called PEDMAS -\n",
    "###### Wherein the fist P is parenthesis, then it's E for exponents, M for multiplication, then D for division, A for addition and finally S for subtraction."
   ]
  },
  {
   "cell_type": "code",
   "execution_count": 185,
   "id": "b8353284",
   "metadata": {},
   "outputs": [
    {
     "name": "stdout",
     "output_type": "stream",
     "text": [
      "11.857142857142858\n",
      "11.857142857142858\n",
      "11.857142857142858\n",
      "11.857142857142858\n"
     ]
    }
   ],
   "source": [
    "print((4 * 5) - 9 + 6 / 7)\n",
    "print(20 - 9 + 6 / 7)\n",
    "print(20 - 9 + 0.8571428571428571)\n",
    "print(11 + 0.8571428571428571)"
   ]
  },
  {
   "cell_type": "markdown",
   "id": "a7dd65d9",
   "metadata": {},
   "source": [
    "## String Operations\n",
    "#### We should look at strings as a banner where multiple characters are linked together. The string data is an immutable type which means it cannot be modified."
   ]
  },
  {
   "cell_type": "code",
   "execution_count": null,
   "id": "81f5b216",
   "metadata": {},
   "outputs": [],
   "source": [
    "var1 = \"Chandan\" "
   ]
  },
  {
   "cell_type": "code",
   "execution_count": 118,
   "id": "0a07e4de",
   "metadata": {},
   "outputs": [],
   "source": [
    "# Whenever we are assigning a char or string we use '' which represents a character\n",
    "c = 'z'\n",
    "d = 'Mike'\n",
    "#You can also use \" \" double quotes instead of single quotes for strings\n",
    "e = \"John\""
   ]
  },
  {
   "cell_type": "code",
   "execution_count": 188,
   "id": "24126153",
   "metadata": {},
   "outputs": [
    {
     "ename": "SyntaxError",
     "evalue": "invalid syntax (2017692418.py, line 2)",
     "output_type": "error",
     "traceback": [
      "\u001b[1;36m  Input \u001b[1;32mIn [188]\u001b[1;36m\u001b[0m\n\u001b[1;33m    print('I didn't know that')\u001b[0m\n\u001b[1;37m                  ^\u001b[0m\n\u001b[1;31mSyntaxError\u001b[0m\u001b[1;31m:\u001b[0m invalid syntax\n"
     ]
    }
   ],
   "source": [
    "# Now when we want to include words with a single quote such as \"didn't\", \"I'll\".. we might end up with a error\n",
    "print('I didn't know that')"
   ]
  },
  {
   "cell_type": "code",
   "execution_count": 120,
   "id": "db22594d",
   "metadata": {},
   "outputs": [
    {
     "name": "stdout",
     "output_type": "stream",
     "text": [
      "I didn't know that\n"
     ]
    }
   ],
   "source": [
    "print(\"I didn't know that\")"
   ]
  },
  {
   "cell_type": "code",
   "execution_count": 189,
   "id": "68e6c509",
   "metadata": {},
   "outputs": [
    {
     "name": "stdout",
     "output_type": "stream",
     "text": [
      "I did't know that\n"
     ]
    }
   ],
   "source": [
    "# Now to solve this we can use an escape character like \n",
    "\n",
    "print('I did\\'t know that')"
   ]
  },
  {
   "cell_type": "code",
   "execution_count": 196,
   "id": "49b39558",
   "metadata": {},
   "outputs": [
    {
     "name": "stdout",
     "output_type": "stream",
     "text": [
      "Hi Bob\n",
      "\n",
      "How are you doing?\n",
      "\n",
      "I am doing good\n"
     ]
    }
   ],
   "source": [
    "var2 = \"\"\"Hi Bob\n",
    "\n",
    "How are you doing?\n",
    "\n",
    "I am doing good\"\"\"\n",
    "print(var2)"
   ]
  },
  {
   "cell_type": "code",
   "execution_count": 193,
   "id": "7899eaca",
   "metadata": {},
   "outputs": [
    {
     "name": "stdout",
     "output_type": "stream",
     "text": [
      "Hi Bob  \n",
      "\n",
      "How are you?  \n",
      "\n",
      "I am doing good\n"
     ]
    }
   ],
   "source": [
    "# Now that '\\' escape character which we saw earlier can also be used for other stuff like adding a new line\n",
    "\n",
    "print(\"Hi Bob  \\n\\nHow are you?  \\n\\nI am doing good\")"
   ]
  },
  {
   "cell_type": "markdown",
   "id": "5e92937c",
   "metadata": {},
   "source": [
    "### Now apart adding new lines to a string we can also add another to a pre-existing string, let's see how -\n",
    "\n",
    "## String Concatenation"
   ]
  },
  {
   "cell_type": "code",
   "execution_count": 208,
   "id": "68c873b7",
   "metadata": {},
   "outputs": [
    {
     "name": "stdout",
     "output_type": "stream",
     "text": [
      "Which Sport do you like?cricket\n",
      "You play as :batsman\n",
      "cricket\n",
      "batsman\n",
      "cricket                         batsman\n",
      "cricket batsman\n"
     ]
    }
   ],
   "source": [
    "# Let's try building a system that could ask for flavour, and the type of desert user wants\n",
    "\n",
    "sport = input(\"Which Sport do you like?\")\n",
    "position = input(\"You play as :\")\n",
    "print(sport)\n",
    "print(position)\n",
    "print(sport+'                         '+position)\n",
    "print(sport,                            position)\n",
    "\n",
    " "
   ]
  },
  {
   "cell_type": "markdown",
   "id": "0f24b13d",
   "metadata": {},
   "source": [
    "####  Congrats on building a simple app using input and string functions. Let's take a step ahead and learn more about string manipulation\n",
    "## String Manipulation\n",
    "\n",
    "###### Indexing In Strings\n",
    "###### Forward indexing starts with 0\n",
    "###### Reverse indexing starts with the last character as -1 in a python string\n",
    "###### Strings are immutable which, means they cannot be changed once created.\n",
    "###### Strings can be modified by slicing a part of it and concatenating with another"
   ]
  },
  {
   "cell_type": "code",
   "execution_count": 215,
   "id": "7db50c24",
   "metadata": {},
   "outputs": [
    {
     "name": "stdout",
     "output_type": "stream",
     "text": [
      "45\n",
      "My Name is Amarjeet and I am from Banka Bihar\n",
      "r\n"
     ]
    }
   ],
   "source": [
    "a = \"My Name is Amarjeet and I am from Banka Bihar\"\n",
    "print(len(a))\n",
    "print(a)\n",
    "print(a[-1]) # position or r with reverse Indexing"
   ]
  },
  {
   "cell_type": "code",
   "execution_count": 212,
   "id": "e359a7f8",
   "metadata": {},
   "outputs": [
    {
     "name": "stdout",
     "output_type": "stream",
     "text": [
      "In programming, data type is an important concept. Variables can store data of different types, and different types can do different things. Python has the following data types built-in by default, in these categories:\n",
      "218\n"
     ]
    }
   ],
   "source": [
    "b = \"In programming, data type is an important concept. Variables can store data of different types, and different types can do different things. Python has the following data types built-in by default, in these categories:\"\n",
    "print(b)\n",
    "print(len(b))"
   ]
  },
  {
   "cell_type": "code",
   "execution_count": 141,
   "id": "465175d3",
   "metadata": {},
   "outputs": [
    {
     "name": "stdout",
     "output_type": "stream",
     "text": [
      "My Name is Siddhartha Singh and I am B-TECH graduate\n",
      "I studied from  SRM University\n",
      "My Name is Siddhartha Singh and I am B-TECH graduate I studied from  SRM University\n"
     ]
    }
   ],
   "source": [
    "var1 = \"My Name is Siddhartha Singh and I am B-TECH graduate\"\n",
    "var2 = \"I studied from  SRM University\"   # My name is Siddhartha Singh and I studied from SRM university\n",
    "# My name is Siddhartha Singh and I studied from SRM University\n",
    "print(var1)\n",
    "print(var2)\n",
    "print(var1+' '+var2)"
   ]
  },
  {
   "cell_type": "code",
   "execution_count": 147,
   "id": "d6b41cec",
   "metadata": {},
   "outputs": [
    {
     "name": "stdout",
     "output_type": "stream",
     "text": [
      "52\n",
      "30\n"
     ]
    }
   ],
   "source": [
    "# Len() function\n",
    "quote = \"My Name is Siddhartha Singh and I am B-TECH graduate\"\n",
    "disco = \"I studied from SRM University\"\n",
    "print(len(quote))\n",
    "print(len(disco))"
   ]
  },
  {
   "cell_type": "code",
   "execution_count": 217,
   "id": "5d48bfbf",
   "metadata": {},
   "outputs": [
    {
     "name": "stdout",
     "output_type": "stream",
     "text": [
      "d\n",
      "B\n"
     ]
    }
   ],
   "source": [
    "# accessing the first character\n",
    "print(quote[30])\n",
    "print(quote[-15])"
   ]
  },
  {
   "cell_type": "code",
   "execution_count": 156,
   "id": "3388bead",
   "metadata": {},
   "outputs": [
    {
     "name": "stdout",
     "output_type": "stream",
     "text": [
      "29\n",
      "S\n",
      "S\n"
     ]
    }
   ],
   "source": [
    "disco = \"I studied from SRM University\"\n",
    "print(len(disco))\n",
    "print(disco[15])\n",
    "print(disco[-14])"
   ]
  },
  {
   "cell_type": "code",
   "execution_count": 160,
   "id": "84c3caba",
   "metadata": {},
   "outputs": [
    {
     "name": "stdout",
     "output_type": "stream",
     "text": [
      "u\n"
     ]
    },
    {
     "ename": "TypeError",
     "evalue": "'str' object does not support item assignment",
     "output_type": "error",
     "traceback": [
      "\u001b[1;31m---------------------------------------------------------------------------\u001b[0m",
      "\u001b[1;31mTypeError\u001b[0m                                 Traceback (most recent call last)",
      "Input \u001b[1;32mIn [160]\u001b[0m, in \u001b[0;36m<cell line: 5>\u001b[1;34m()\u001b[0m\n\u001b[0;32m      3\u001b[0m \u001b[38;5;28mlen\u001b[39m(mamba)\n\u001b[0;32m      4\u001b[0m \u001b[38;5;28mprint\u001b[39m(mamba[\u001b[38;5;241m3\u001b[39m])\n\u001b[1;32m----> 5\u001b[0m mamba[\u001b[38;5;241m3\u001b[39m] \u001b[38;5;241m=\u001b[39m \u001b[38;5;124m'\u001b[39m\u001b[38;5;124mt\u001b[39m\u001b[38;5;124m'\u001b[39m\n",
      "\u001b[1;31mTypeError\u001b[0m: 'str' object does not support item assignment"
     ]
    }
   ],
   "source": [
    "# Trying to change the character at index 2\n",
    "mamba = \"I suudied from SRM University\"\n",
    "len(mamba)\n",
    "print(mamba[3])\n",
    "mamba[3] = 't' "
   ]
  },
  {
   "cell_type": "code",
   "execution_count": 164,
   "id": "1d67824a",
   "metadata": {},
   "outputs": [
    {
     "name": "stdout",
     "output_type": "stream",
     "text": [
      "I have not failed. I’ve just found 10,000 ways that won’t work. – Thomas A. Edison\n"
     ]
    },
    {
     "data": {
      "text/plain": [
       "82"
      ]
     },
     "execution_count": 164,
     "metadata": {},
     "output_type": "execute_result"
    }
   ],
   "source": [
    "# Changing the entire string or say changing the label of it\n",
    "string = \"I have not failed. I’ve just found 10,000 ways that won’t work. – Thomas A. Edison\"\n",
    "print (string)\n",
    "len(string)"
   ]
  },
  {
   "cell_type": "markdown",
   "id": "9af7fc19",
   "metadata": {},
   "source": [
    "## Slicing In Strings\n",
    "### string[start:end:step]"
   ]
  },
  {
   "cell_type": "code",
   "execution_count": 171,
   "id": "80104afc",
   "metadata": {},
   "outputs": [
    {
     "name": "stdout",
     "output_type": "stream",
     "text": [
      ".\n",
      "82\n",
      "I have not failed. I’ve just found 10,000 ways that won’t work. \n"
     ]
    }
   ],
   "source": [
    "#slicing by specifying start and end index\n",
    "statement = \"I have not failed. I’ve just found 10,000 ways that won’t work. – Thomas A. Edison\"\n",
    "sliced_statement = statement[0:64]\n",
    "print(statement[62])\n",
    "print(len(statement))\n",
    "print(sliced_statement)"
   ]
  },
  {
   "cell_type": "code",
   "execution_count": 239,
   "id": "df088c51",
   "metadata": {},
   "outputs": [
    {
     "name": "stdout",
     "output_type": "stream",
     "text": [
      "My Name is Siddhartha Singh and I am B-TECH graduate I studied from SRM University\n",
      "My Name is Siddhartha Singh and I am B-TECH graduate I studied from SRM University\n",
      "My Name is Siddhartha Singh and I am B-TECH graduate\n",
      "I studied from SRM University\n",
      "d\n",
      "T\n"
     ]
    }
   ],
   "source": [
    "quote = \"My Name is Siddhartha Singh and I am B-TECH graduate\"\n",
    "var1 = \"I studied from SRM University\"\n",
    "var3 = quote[0:]\n",
    "print(quote+' '+var1)\n",
    "print(var3+' '+var1)\n",
    "print(var3+'\\n'+var1)\n",
    "print(quote[30])\n",
    "print(quote[39])"
   ]
  },
  {
   "cell_type": "code",
   "execution_count": 181,
   "id": "c3a4e6a2",
   "metadata": {},
   "outputs": [
    {
     "name": "stdout",
     "output_type": "stream",
     "text": [
      "52\n",
      "My Name is Siddhartha Singh and\n",
      "My Name is Siddhartha Singh and I studied from SRM University\n",
      "My Name is Siddhartha Singh and I studied from SRM University\n"
     ]
    }
   ],
   "source": [
    "quote = \"My Name is Siddhartha Singh and I am B-TECH graduate\"\n",
    "var1 = \"I studied from SRM University\"\n",
    "var2 = \"My Name is Siddhartha Singh and I studied from SRM University\"\n",
    "quote1 = quote[0:30]\n",
    "print(len(quote))\n",
    "print(quote1)\n",
    "print(quote1 +' '+ var1)\n",
    "print(var2)"
   ]
  },
  {
   "cell_type": "code",
   "execution_count": 254,
   "id": "6d3756be",
   "metadata": {},
   "outputs": [
    {
     "name": "stdout",
     "output_type": "stream",
     "text": [
      "89\n",
      "My name is Vishal and I belong from Bihar.\n",
      "My name is Vishal and I belong from Bihar.\n",
      "I am BCA graduate and currently in final year.\n",
      "I am BCA graduate and currently in final year.\n",
      "I am BCA graduate and currently in final year\n"
     ]
    }
   ],
   "source": [
    "#slicing by specifying start and end index.\n",
    "name = \"My name is Vishal and I belong from Bihar. I am BCA graduate and currently in final year.\"\n",
    "print(len(name))\n",
    "print(name[0:42])\n",
    "print(name[ :42])\n",
    "print(name[43:89])\n",
    "print(name[43: ])\n",
    "print(name[43:-1])"
   ]
  },
  {
   "cell_type": "code",
   "execution_count": 267,
   "id": "a6a85c7c",
   "metadata": {},
   "outputs": [
    {
     "name": "stdout",
     "output_type": "stream",
     "text": [
      "25\n",
      "5 girls 3 b\n",
      "o\n",
      "5 girls \n",
      "1\n",
      "b\n",
      "5 girls 3 boys i\n"
     ]
    }
   ],
   "source": [
    "batch = \"5 girls 3 boys in a class\"\n",
    "print(len(batch))\n",
    "print(batch[0:11])\n",
    "print(batch[11])\n",
    "print(batch[0:8])\n",
    "print(len(batch[11]))\n",
    "print(batch[10])\n",
    "print(batch[ :16])"
   ]
  },
  {
   "cell_type": "code",
   "execution_count": 292,
   "id": "863b192c",
   "metadata": {},
   "outputs": [
    {
     "name": "stdout",
     "output_type": "stream",
     "text": [
      "224\n",
      "Journalist Namita Bhandare, researcher Sharon Buteau, and author and economist Shrayana Bhattacharya delve into the data on female labour force participation, revealing the truth about Indian women’s engagement in paid work.\n",
      "Journalist Namita Bhandare, researcher Sharon Buteau, and author and economist Shrayana Bhattacharya delve into the data on female labour force participation, r\n",
      "r\n"
     ]
    }
   ],
   "source": [
    "news = \"Journalist Namita Bhandare, researcher Sharon Buteau, and author and economist Shrayana Bhattacharya delve into the data on female labour force participation, revealing the truth about Indian women’s engagement in paid work.\"\n",
    "print(len(news))\n",
    "print(news)\n",
    "print(news[ :160])\n",
    "print(news[159])"
   ]
  },
  {
   "cell_type": "code",
   "execution_count": 285,
   "id": "c4953389",
   "metadata": {
    "scrolled": true
   },
   "outputs": [
    {
     "name": "stdout",
     "output_type": "stream",
     "text": [
      "My name is Vishal and I belong from Bihar. \n",
      "I am BCA graduate and currently in final year.\n",
      "I am 25 years old.\n",
      "y name i\n"
     ]
    }
   ],
   "source": [
    "name1 = \"\"\"My name is Vishal and I belong from Bihar. \n",
    "I am BCA graduate and currently in final year.\n",
    "I am 25 years old.\"\"\"\n",
    "print(name1)\n",
    "print(name[1:9])"
   ]
  },
  {
   "cell_type": "code",
   "execution_count": 301,
   "id": "2a28d4e2",
   "metadata": {},
   "outputs": [
    {
     "name": "stdout",
     "output_type": "stream",
     "text": [
      "False\n",
      "False\n",
      "True\n",
      "True\n",
      "False\n",
      "False\n",
      "True\n"
     ]
    }
   ],
   "source": [
    "# Membership \n",
    "String = \"\"\"My name is Vishal and I belong from Bihar. \n",
    "I am BCA graduate and currently in final year.\n",
    "I am 25 years old.\"\"\"\n",
    "\n",
    "print(\"Chandan\" in String)\n",
    "print(\"Siddhartha\" in String)\n",
    "print(\"Siddhartha\" not in String)\n",
    "print(\"BCA\" in String)\n",
    "print(\"bca\" in String)\n",
    "print(\"BCa\" in String)\n",
    "print(\"BCa\" not in String)"
   ]
  },
  {
   "cell_type": "markdown",
   "id": "faa06509",
   "metadata": {},
   "source": [
    "## String methods\n",
    "##### upper()\n",
    "##### lower()\n",
    "##### strip()\n",
    "##### count(substring,begin,end)\n",
    "https://docs.python.org/3.7/library/stdtypes.html#string-methods"
   ]
  },
  {
   "cell_type": "code",
   "execution_count": 2,
   "id": "6b9eda6b",
   "metadata": {},
   "outputs": [
    {
     "data": {
      "text/plain": [
       "'MY NAME IS SIDDHARTHA'"
      ]
     },
     "execution_count": 2,
     "metadata": {},
     "output_type": "execute_result"
    }
   ],
   "source": [
    "# upper()\n",
    "small = \"My name is Siddhartha\"\n",
    "small.upper()"
   ]
  },
  {
   "cell_type": "code",
   "execution_count": 3,
   "id": "205131a8",
   "metadata": {},
   "outputs": [
    {
     "data": {
      "text/plain": [
       "'I HAVE GOT A NEW CAR'"
      ]
     },
     "execution_count": 3,
     "metadata": {},
     "output_type": "execute_result"
    }
   ],
   "source": [
    "new = \"I have got a new car\"\n",
    "new.upper()"
   ]
  },
  {
   "cell_type": "code",
   "execution_count": 4,
   "id": "6eed13df",
   "metadata": {},
   "outputs": [
    {
     "data": {
      "text/plain": [
       "'i have completed my post graduation from iii-t bangelore'"
      ]
     },
     "execution_count": 4,
     "metadata": {},
     "output_type": "execute_result"
    }
   ],
   "source": [
    "University = \"I HAVE COMPLETED MY POST GRADUATION FROM III-T BANGELORE\"\n",
    "University.lower()"
   ]
  },
  {
   "cell_type": "code",
   "execution_count": 34,
   "id": "c59bd346",
   "metadata": {},
   "outputs": [
    {
     "name": "stdout",
     "output_type": "stream",
     "text": [
      "My name is Amarjeet kumar singh asdgh\n",
      "37\n",
      "h\n",
      "My name is Amarjeet kumar singh\n"
     ]
    }
   ],
   "source": [
    "# rstrip() function\n",
    "\n",
    "name = \"My name is Amarjeet kumar singh asdgh\"\n",
    "print(name)\n",
    "print(len(name))\n",
    "print(name[30])\n",
    "name1 = name[ :31]\n",
    "print(name1)"
   ]
  },
  {
   "cell_type": "code",
   "execution_count": 36,
   "id": "6528cf10",
   "metadata": {},
   "outputs": [
    {
     "name": "stdout",
     "output_type": "stream",
     "text": [
      "My name is Amarjeet kumar singh asdgh\n",
      "My name is Amarjeet kumar singh \n"
     ]
    }
   ],
   "source": [
    "name = \"My name is Amarjeet kumar singh asdgh\"\n",
    "print(name)\n",
    "print(name.rstrip('asdgh'))"
   ]
  },
  {
   "cell_type": "code",
   "execution_count": 46,
   "id": "2e50ad2e",
   "metadata": {},
   "outputs": [
    {
     "name": "stdout",
     "output_type": "stream",
     "text": [
      "My name is Amarjeet asdgh kumar singh\n",
      "37\n",
      "t\n",
      "My name is Amarjeet\n",
      "kumar singh\n",
      "My name is Amarjeet kumar singh\n"
     ]
    }
   ],
   "source": [
    "name = \"My name is Amarjeet asdgh kumar singh\"\n",
    "print(name)\n",
    "print(len(name))\n",
    "print(name[18])\n",
    "name1 = name[ :19]\n",
    "print(name1)\n",
    "name2 = name[26:]\n",
    "print(name2)\n",
    "print(name1 +' '+name2)"
   ]
  },
  {
   "cell_type": "code",
   "execution_count": 48,
   "id": "aee74b7c",
   "metadata": {},
   "outputs": [
    {
     "name": "stdout",
     "output_type": "stream",
     "text": [
      "4%   \n",
      "4%\n"
     ]
    }
   ],
   "source": [
    "increment = '4%   '\n",
    "print(increment.rstrip(''))\n",
    "print(increment.rstrip(' '))"
   ]
  },
  {
   "cell_type": "code",
   "execution_count": 50,
   "id": "ac46ab62",
   "metadata": {},
   "outputs": [
    {
     "name": "stdout",
     "output_type": "stream",
     "text": [
      "My name is Amarjeet kumar singh\n"
     ]
    }
   ],
   "source": [
    "# lstrip()\n",
    "\n",
    "name = \"ahfgt My name is Amarjeet kumar singh\"\n",
    "print(name.lstrip('ahfgt '))"
   ]
  },
  {
   "cell_type": "code",
   "execution_count": 52,
   "id": "668ed191",
   "metadata": {},
   "outputs": [
    {
     "name": "stdout",
     "output_type": "stream",
     "text": [
      "   Trim whitespaces  \n",
      "Trim whitespaces\n"
     ]
    }
   ],
   "source": [
    "# strip() function \n",
    "spaces = \"   Trim whitespaces  \"\n",
    "print(spaces)\n",
    "print(spaces.strip())"
   ]
  },
  {
   "cell_type": "code",
   "execution_count": 65,
   "id": "3f037da7",
   "metadata": {},
   "outputs": [
    {
     "name": "stdout",
     "output_type": "stream",
     "text": [
      " aa  Trim whitespaces  bb \n",
      "Trim whitespaces  bb \n",
      "Trim whitespaces\n"
     ]
    }
   ],
   "source": [
    "spaces = \" aa  Trim whitespaces  bb \"\n",
    "print(spaces)\n",
    "spaces1 = spaces.lstrip('aa ')\n",
    "print(spaces1)\n",
    "spaces2 = spaces1.rstrip(' bb')\n",
    "print(spaces2)"
   ]
  },
  {
   "cell_type": "code",
   "execution_count": 74,
   "id": "e1b06b39",
   "metadata": {},
   "outputs": [
    {
     "name": "stdout",
     "output_type": "stream",
     "text": [
      "['Hello', 'World!']\n"
     ]
    }
   ],
   "source": [
    "# split () function\n",
    "a = \"Hello World!\"\n",
    "print(a.split(' '))\n"
   ]
  },
  {
   "cell_type": "code",
   "execution_count": 76,
   "id": "d30b90d5",
   "metadata": {},
   "outputs": [
    {
     "name": "stdout",
     "output_type": "stream",
     "text": [
      "['Electronic', 'Phones']\n"
     ]
    }
   ],
   "source": [
    "# split () function\n",
    "b = \"Electronic-Phones\"\n",
    "print(b.split('-'))"
   ]
  },
  {
   "cell_type": "code",
   "execution_count": 80,
   "id": "8553c154",
   "metadata": {},
   "outputs": [
    {
     "name": "stdout",
     "output_type": "stream",
     "text": [
      "******444#######\n",
      "444\n"
     ]
    }
   ],
   "source": [
    "number = '******444#######'\n",
    "print(number)\n",
    "print(number.lstrip('*').rstrip('#'))"
   ]
  },
  {
   "cell_type": "code",
   "execution_count": 95,
   "id": "e3f4e712",
   "metadata": {},
   "outputs": [
    {
     "name": "stdout",
     "output_type": "stream",
     "text": [
      "3\n",
      "3\n"
     ]
    }
   ],
   "source": [
    "#count() Method\n",
    "string = \"My name is Siddhartha Singh and I belong from Lucknow\"\n",
    "print(string.count('i'))\n",
    "print(string.count(\"i\",3))"
   ]
  },
  {
   "cell_type": "code",
   "execution_count": 99,
   "id": "58b8fd45",
   "metadata": {},
   "outputs": [
    {
     "name": "stdout",
     "output_type": "stream",
     "text": [
      "Data Analysis Pandas\n",
      "Data Analysis using Pandas\n",
      "Data Analysis using Pandas\n"
     ]
    }
   ],
   "source": [
    "#r/R It is used to specify the raw string.% It is used to perform string formatting.\n",
    "A = \"Data\"\n",
    "B = \"Analysis\"\n",
    "C = \"Pandas\"\n",
    "print(A,B,C)\n",
    "print(A,B,\"using\",C)\n",
    "print(\"{0} {1} using {2}\".format(A,B,C))"
   ]
  },
  {
   "cell_type": "code",
   "execution_count": 100,
   "id": "8f290c36",
   "metadata": {},
   "outputs": [
    {
     "name": "stdout",
     "output_type": "stream",
     "text": [
      "Help on class str in module builtins:\n",
      "\n",
      "class str(object)\n",
      " |  str(object='') -> str\n",
      " |  str(bytes_or_buffer[, encoding[, errors]]) -> str\n",
      " |  \n",
      " |  Create a new string object from the given object. If encoding or\n",
      " |  errors is specified, then the object must expose a data buffer\n",
      " |  that will be decoded using the given encoding and error handler.\n",
      " |  Otherwise, returns the result of object.__str__() (if defined)\n",
      " |  or repr(object).\n",
      " |  encoding defaults to sys.getdefaultencoding().\n",
      " |  errors defaults to 'strict'.\n",
      " |  \n",
      " |  Methods defined here:\n",
      " |  \n",
      " |  __add__(self, value, /)\n",
      " |      Return self+value.\n",
      " |  \n",
      " |  __contains__(self, key, /)\n",
      " |      Return key in self.\n",
      " |  \n",
      " |  __eq__(self, value, /)\n",
      " |      Return self==value.\n",
      " |  \n",
      " |  __format__(self, format_spec, /)\n",
      " |      Return a formatted version of the string as described by format_spec.\n",
      " |  \n",
      " |  __ge__(self, value, /)\n",
      " |      Return self>=value.\n",
      " |  \n",
      " |  __getattribute__(self, name, /)\n",
      " |      Return getattr(self, name).\n",
      " |  \n",
      " |  __getitem__(self, key, /)\n",
      " |      Return self[key].\n",
      " |  \n",
      " |  __getnewargs__(...)\n",
      " |  \n",
      " |  __gt__(self, value, /)\n",
      " |      Return self>value.\n",
      " |  \n",
      " |  __hash__(self, /)\n",
      " |      Return hash(self).\n",
      " |  \n",
      " |  __iter__(self, /)\n",
      " |      Implement iter(self).\n",
      " |  \n",
      " |  __le__(self, value, /)\n",
      " |      Return self<=value.\n",
      " |  \n",
      " |  __len__(self, /)\n",
      " |      Return len(self).\n",
      " |  \n",
      " |  __lt__(self, value, /)\n",
      " |      Return self<value.\n",
      " |  \n",
      " |  __mod__(self, value, /)\n",
      " |      Return self%value.\n",
      " |  \n",
      " |  __mul__(self, value, /)\n",
      " |      Return self*value.\n",
      " |  \n",
      " |  __ne__(self, value, /)\n",
      " |      Return self!=value.\n",
      " |  \n",
      " |  __repr__(self, /)\n",
      " |      Return repr(self).\n",
      " |  \n",
      " |  __rmod__(self, value, /)\n",
      " |      Return value%self.\n",
      " |  \n",
      " |  __rmul__(self, value, /)\n",
      " |      Return value*self.\n",
      " |  \n",
      " |  __sizeof__(self, /)\n",
      " |      Return the size of the string in memory, in bytes.\n",
      " |  \n",
      " |  __str__(self, /)\n",
      " |      Return str(self).\n",
      " |  \n",
      " |  capitalize(self, /)\n",
      " |      Return a capitalized version of the string.\n",
      " |      \n",
      " |      More specifically, make the first character have upper case and the rest lower\n",
      " |      case.\n",
      " |  \n",
      " |  casefold(self, /)\n",
      " |      Return a version of the string suitable for caseless comparisons.\n",
      " |  \n",
      " |  center(self, width, fillchar=' ', /)\n",
      " |      Return a centered string of length width.\n",
      " |      \n",
      " |      Padding is done using the specified fill character (default is a space).\n",
      " |  \n",
      " |  count(...)\n",
      " |      S.count(sub[, start[, end]]) -> int\n",
      " |      \n",
      " |      Return the number of non-overlapping occurrences of substring sub in\n",
      " |      string S[start:end].  Optional arguments start and end are\n",
      " |      interpreted as in slice notation.\n",
      " |  \n",
      " |  encode(self, /, encoding='utf-8', errors='strict')\n",
      " |      Encode the string using the codec registered for encoding.\n",
      " |      \n",
      " |      encoding\n",
      " |        The encoding in which to encode the string.\n",
      " |      errors\n",
      " |        The error handling scheme to use for encoding errors.\n",
      " |        The default is 'strict' meaning that encoding errors raise a\n",
      " |        UnicodeEncodeError.  Other possible values are 'ignore', 'replace' and\n",
      " |        'xmlcharrefreplace' as well as any other name registered with\n",
      " |        codecs.register_error that can handle UnicodeEncodeErrors.\n",
      " |  \n",
      " |  endswith(...)\n",
      " |      S.endswith(suffix[, start[, end]]) -> bool\n",
      " |      \n",
      " |      Return True if S ends with the specified suffix, False otherwise.\n",
      " |      With optional start, test S beginning at that position.\n",
      " |      With optional end, stop comparing S at that position.\n",
      " |      suffix can also be a tuple of strings to try.\n",
      " |  \n",
      " |  expandtabs(self, /, tabsize=8)\n",
      " |      Return a copy where all tab characters are expanded using spaces.\n",
      " |      \n",
      " |      If tabsize is not given, a tab size of 8 characters is assumed.\n",
      " |  \n",
      " |  find(...)\n",
      " |      S.find(sub[, start[, end]]) -> int\n",
      " |      \n",
      " |      Return the lowest index in S where substring sub is found,\n",
      " |      such that sub is contained within S[start:end].  Optional\n",
      " |      arguments start and end are interpreted as in slice notation.\n",
      " |      \n",
      " |      Return -1 on failure.\n",
      " |  \n",
      " |  format(...)\n",
      " |      S.format(*args, **kwargs) -> str\n",
      " |      \n",
      " |      Return a formatted version of S, using substitutions from args and kwargs.\n",
      " |      The substitutions are identified by braces ('{' and '}').\n",
      " |  \n",
      " |  format_map(...)\n",
      " |      S.format_map(mapping) -> str\n",
      " |      \n",
      " |      Return a formatted version of S, using substitutions from mapping.\n",
      " |      The substitutions are identified by braces ('{' and '}').\n",
      " |  \n",
      " |  index(...)\n",
      " |      S.index(sub[, start[, end]]) -> int\n",
      " |      \n",
      " |      Return the lowest index in S where substring sub is found,\n",
      " |      such that sub is contained within S[start:end].  Optional\n",
      " |      arguments start and end are interpreted as in slice notation.\n",
      " |      \n",
      " |      Raises ValueError when the substring is not found.\n",
      " |  \n",
      " |  isalnum(self, /)\n",
      " |      Return True if the string is an alpha-numeric string, False otherwise.\n",
      " |      \n",
      " |      A string is alpha-numeric if all characters in the string are alpha-numeric and\n",
      " |      there is at least one character in the string.\n",
      " |  \n",
      " |  isalpha(self, /)\n",
      " |      Return True if the string is an alphabetic string, False otherwise.\n",
      " |      \n",
      " |      A string is alphabetic if all characters in the string are alphabetic and there\n",
      " |      is at least one character in the string.\n",
      " |  \n",
      " |  isascii(self, /)\n",
      " |      Return True if all characters in the string are ASCII, False otherwise.\n",
      " |      \n",
      " |      ASCII characters have code points in the range U+0000-U+007F.\n",
      " |      Empty string is ASCII too.\n",
      " |  \n",
      " |  isdecimal(self, /)\n",
      " |      Return True if the string is a decimal string, False otherwise.\n",
      " |      \n",
      " |      A string is a decimal string if all characters in the string are decimal and\n",
      " |      there is at least one character in the string.\n",
      " |  \n",
      " |  isdigit(self, /)\n",
      " |      Return True if the string is a digit string, False otherwise.\n",
      " |      \n",
      " |      A string is a digit string if all characters in the string are digits and there\n",
      " |      is at least one character in the string.\n",
      " |  \n",
      " |  isidentifier(self, /)\n",
      " |      Return True if the string is a valid Python identifier, False otherwise.\n",
      " |      \n",
      " |      Call keyword.iskeyword(s) to test whether string s is a reserved identifier,\n",
      " |      such as \"def\" or \"class\".\n",
      " |  \n",
      " |  islower(self, /)\n",
      " |      Return True if the string is a lowercase string, False otherwise.\n",
      " |      \n",
      " |      A string is lowercase if all cased characters in the string are lowercase and\n",
      " |      there is at least one cased character in the string.\n",
      " |  \n",
      " |  isnumeric(self, /)\n",
      " |      Return True if the string is a numeric string, False otherwise.\n",
      " |      \n",
      " |      A string is numeric if all characters in the string are numeric and there is at\n",
      " |      least one character in the string.\n",
      " |  \n",
      " |  isprintable(self, /)\n",
      " |      Return True if the string is printable, False otherwise.\n",
      " |      \n",
      " |      A string is printable if all of its characters are considered printable in\n",
      " |      repr() or if it is empty.\n",
      " |  \n",
      " |  isspace(self, /)\n",
      " |      Return True if the string is a whitespace string, False otherwise.\n",
      " |      \n",
      " |      A string is whitespace if all characters in the string are whitespace and there\n",
      " |      is at least one character in the string.\n",
      " |  \n",
      " |  istitle(self, /)\n",
      " |      Return True if the string is a title-cased string, False otherwise.\n",
      " |      \n",
      " |      In a title-cased string, upper- and title-case characters may only\n",
      " |      follow uncased characters and lowercase characters only cased ones.\n",
      " |  \n",
      " |  isupper(self, /)\n",
      " |      Return True if the string is an uppercase string, False otherwise.\n",
      " |      \n",
      " |      A string is uppercase if all cased characters in the string are uppercase and\n",
      " |      there is at least one cased character in the string.\n",
      " |  \n",
      " |  join(self, iterable, /)\n",
      " |      Concatenate any number of strings.\n",
      " |      \n",
      " |      The string whose method is called is inserted in between each given string.\n",
      " |      The result is returned as a new string.\n",
      " |      \n",
      " |      Example: '.'.join(['ab', 'pq', 'rs']) -> 'ab.pq.rs'\n",
      " |  \n",
      " |  ljust(self, width, fillchar=' ', /)\n",
      " |      Return a left-justified string of length width.\n",
      " |      \n",
      " |      Padding is done using the specified fill character (default is a space).\n",
      " |  \n",
      " |  lower(self, /)\n",
      " |      Return a copy of the string converted to lowercase.\n",
      " |  \n",
      " |  lstrip(self, chars=None, /)\n",
      " |      Return a copy of the string with leading whitespace removed.\n",
      " |      \n",
      " |      If chars is given and not None, remove characters in chars instead.\n",
      " |  \n",
      " |  partition(self, sep, /)\n",
      " |      Partition the string into three parts using the given separator.\n",
      " |      \n",
      " |      This will search for the separator in the string.  If the separator is found,\n",
      " |      returns a 3-tuple containing the part before the separator, the separator\n",
      " |      itself, and the part after it.\n",
      " |      \n",
      " |      If the separator is not found, returns a 3-tuple containing the original string\n",
      " |      and two empty strings.\n",
      " |  \n",
      " |  removeprefix(self, prefix, /)\n",
      " |      Return a str with the given prefix string removed if present.\n",
      " |      \n",
      " |      If the string starts with the prefix string, return string[len(prefix):].\n",
      " |      Otherwise, return a copy of the original string.\n",
      " |  \n",
      " |  removesuffix(self, suffix, /)\n",
      " |      Return a str with the given suffix string removed if present.\n",
      " |      \n",
      " |      If the string ends with the suffix string and that suffix is not empty,\n",
      " |      return string[:-len(suffix)]. Otherwise, return a copy of the original\n",
      " |      string.\n",
      " |  \n",
      " |  replace(self, old, new, count=-1, /)\n",
      " |      Return a copy with all occurrences of substring old replaced by new.\n",
      " |      \n",
      " |        count\n",
      " |          Maximum number of occurrences to replace.\n",
      " |          -1 (the default value) means replace all occurrences.\n",
      " |      \n",
      " |      If the optional argument count is given, only the first count occurrences are\n",
      " |      replaced.\n",
      " |  \n",
      " |  rfind(...)\n",
      " |      S.rfind(sub[, start[, end]]) -> int\n",
      " |      \n",
      " |      Return the highest index in S where substring sub is found,\n",
      " |      such that sub is contained within S[start:end].  Optional\n",
      " |      arguments start and end are interpreted as in slice notation.\n",
      " |      \n",
      " |      Return -1 on failure.\n",
      " |  \n",
      " |  rindex(...)\n",
      " |      S.rindex(sub[, start[, end]]) -> int\n",
      " |      \n",
      " |      Return the highest index in S where substring sub is found,\n",
      " |      such that sub is contained within S[start:end].  Optional\n",
      " |      arguments start and end are interpreted as in slice notation.\n",
      " |      \n",
      " |      Raises ValueError when the substring is not found.\n",
      " |  \n",
      " |  rjust(self, width, fillchar=' ', /)\n",
      " |      Return a right-justified string of length width.\n",
      " |      \n",
      " |      Padding is done using the specified fill character (default is a space).\n",
      " |  \n",
      " |  rpartition(self, sep, /)\n",
      " |      Partition the string into three parts using the given separator.\n",
      " |      \n",
      " |      This will search for the separator in the string, starting at the end. If\n",
      " |      the separator is found, returns a 3-tuple containing the part before the\n",
      " |      separator, the separator itself, and the part after it.\n",
      " |      \n",
      " |      If the separator is not found, returns a 3-tuple containing two empty strings\n",
      " |      and the original string.\n",
      " |  \n",
      " |  rsplit(self, /, sep=None, maxsplit=-1)\n",
      " |      Return a list of the words in the string, using sep as the delimiter string.\n",
      " |      \n",
      " |        sep\n",
      " |          The delimiter according which to split the string.\n",
      " |          None (the default value) means split according to any whitespace,\n",
      " |          and discard empty strings from the result.\n",
      " |        maxsplit\n",
      " |          Maximum number of splits to do.\n",
      " |          -1 (the default value) means no limit.\n",
      " |      \n",
      " |      Splits are done starting at the end of the string and working to the front.\n",
      " |  \n",
      " |  rstrip(self, chars=None, /)\n",
      " |      Return a copy of the string with trailing whitespace removed.\n",
      " |      \n",
      " |      If chars is given and not None, remove characters in chars instead.\n",
      " |  \n",
      " |  split(self, /, sep=None, maxsplit=-1)\n",
      " |      Return a list of the words in the string, using sep as the delimiter string.\n",
      " |      \n",
      " |      sep\n",
      " |        The delimiter according which to split the string.\n",
      " |        None (the default value) means split according to any whitespace,\n",
      " |        and discard empty strings from the result.\n",
      " |      maxsplit\n",
      " |        Maximum number of splits to do.\n",
      " |        -1 (the default value) means no limit.\n",
      " |  \n",
      " |  splitlines(self, /, keepends=False)\n",
      " |      Return a list of the lines in the string, breaking at line boundaries.\n",
      " |      \n",
      " |      Line breaks are not included in the resulting list unless keepends is given and\n",
      " |      true.\n",
      " |  \n",
      " |  startswith(...)\n",
      " |      S.startswith(prefix[, start[, end]]) -> bool\n",
      " |      \n",
      " |      Return True if S starts with the specified prefix, False otherwise.\n",
      " |      With optional start, test S beginning at that position.\n",
      " |      With optional end, stop comparing S at that position.\n",
      " |      prefix can also be a tuple of strings to try.\n",
      " |  \n",
      " |  strip(self, chars=None, /)\n",
      " |      Return a copy of the string with leading and trailing whitespace removed.\n",
      " |      \n",
      " |      If chars is given and not None, remove characters in chars instead.\n",
      " |  \n",
      " |  swapcase(self, /)\n",
      " |      Convert uppercase characters to lowercase and lowercase characters to uppercase.\n",
      " |  \n",
      " |  title(self, /)\n",
      " |      Return a version of the string where each word is titlecased.\n",
      " |      \n",
      " |      More specifically, words start with uppercased characters and all remaining\n",
      " |      cased characters have lower case.\n",
      " |  \n",
      " |  translate(self, table, /)\n",
      " |      Replace each character in the string using the given translation table.\n",
      " |      \n",
      " |        table\n",
      " |          Translation table, which must be a mapping of Unicode ordinals to\n",
      " |          Unicode ordinals, strings, or None.\n",
      " |      \n",
      " |      The table must implement lookup/indexing via __getitem__, for instance a\n",
      " |      dictionary or list.  If this operation raises LookupError, the character is\n",
      " |      left untouched.  Characters mapped to None are deleted.\n",
      " |  \n",
      " |  upper(self, /)\n",
      " |      Return a copy of the string converted to uppercase.\n",
      " |  \n",
      " |  zfill(self, width, /)\n",
      " |      Pad a numeric string with zeros on the left, to fill a field of the given width.\n",
      " |      \n",
      " |      The string is never truncated.\n",
      " |  \n",
      " |  ----------------------------------------------------------------------\n",
      " |  Static methods defined here:\n",
      " |  \n",
      " |  __new__(*args, **kwargs) from builtins.type\n",
      " |      Create and return a new object.  See help(type) for accurate signature.\n",
      " |  \n",
      " |  maketrans(...)\n",
      " |      Return a translation table usable for str.translate().\n",
      " |      \n",
      " |      If there is only one argument, it must be a dictionary mapping Unicode\n",
      " |      ordinals (integers) or characters to Unicode ordinals, strings or None.\n",
      " |      Character keys will be then converted to ordinals.\n",
      " |      If there are two arguments, they must be strings of equal length, and\n",
      " |      in the resulting dictionary, each character in x will be mapped to the\n",
      " |      character at the same position in y. If there is a third argument, it\n",
      " |      must be a string, whose characters will be mapped to None in the result.\n",
      "\n"
     ]
    }
   ],
   "source": [
    "help(str)"
   ]
  },
  {
   "cell_type": "code",
   "execution_count": null,
   "id": "96f2c6ce",
   "metadata": {},
   "outputs": [],
   "source": []
  }
 ],
 "metadata": {
  "kernelspec": {
   "display_name": "Python 3 (ipykernel)",
   "language": "python",
   "name": "python3"
  },
  "language_info": {
   "codemirror_mode": {
    "name": "ipython",
    "version": 3
   },
   "file_extension": ".py",
   "mimetype": "text/x-python",
   "name": "python",
   "nbconvert_exporter": "python",
   "pygments_lexer": "ipython3",
   "version": "3.11.7"
  }
 },
 "nbformat": 4,
 "nbformat_minor": 5
}
